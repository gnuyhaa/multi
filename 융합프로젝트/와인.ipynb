{
 "cells": [
  {
   "cell_type": "code",
   "execution_count": 15,
   "id": "7d178d38",
   "metadata": {},
   "outputs": [],
   "source": [
    "from selenium import webdriver\n",
    "from selenium.webdriver.common.keys import Keys\n",
    "import time\n",
    "import selenium\n",
    "from selenium import webdriver\n",
    "import pandas as pd\n",
    "import numpy as np\n",
    "from bs4 import BeautifulSoup\n",
    "from selenium.webdriver.common.by import By # 셀레니움 4.0부터 포함된 함수(필수)\n",
    "import os\n",
    "import sys\n",
    "import urllib.request\n",
    "from urllib import parse\n",
    "import ssl\n",
    "from selenium.webdriver.support.ui import Select"
   ]
  },
  {
   "cell_type": "code",
   "execution_count": 16,
   "id": "7b1ef46e",
   "metadata": {},
   "outputs": [
    {
     "name": "stderr",
     "output_type": "stream",
     "text": [
      "C:\\Users\\jkk18\\AppData\\Local\\Temp\\ipykernel_10764\\3506397282.py:1: DeprecationWarning: executable_path has been deprecated, please pass in a Service object\n",
      "  driver = webdriver.Chrome('./driver/chromedriver.exe')\n"
     ]
    }
   ],
   "source": [
    "driver = webdriver.Chrome('./driver/chromedriver.exe')"
   ]
  },
  {
   "cell_type": "code",
   "execution_count": 17,
   "id": "9f8a7866",
   "metadata": {},
   "outputs": [],
   "source": [
    "base_url = 'https://www.wine21.com/13_search/wine_list.html'"
   ]
  },
  {
   "cell_type": "code",
   "execution_count": 18,
   "id": "670689c1",
   "metadata": {},
   "outputs": [],
   "source": [
    "driver.get(base_url)"
   ]
  },
  {
   "cell_type": "code",
   "execution_count": 19,
   "id": "9a11304e",
   "metadata": {},
   "outputs": [],
   "source": [
    "# #shOrder1 요소 클릭\n",
    "driver.find_element(By.CSS_SELECTOR, '#shOrder1').click()\n",
    "\n",
    "# #shOrder1 > option:nth-child(4) 선택\n",
    "select = Select(driver.find_element(By.CSS_SELECTOR, '#shOrder1'))\n",
    "select.select_by_index(3)"
   ]
  },
  {
   "cell_type": "code",
   "execution_count": 20,
   "id": "765171bf",
   "metadata": {},
   "outputs": [],
   "source": [
    "import time\n",
    "\n",
    "# 스크롤을 내릴 때마다 새로운 와인이 로드될 때까지 반복\n",
    "for _ in range(40):\n",
    "    # 현재 스크롤 위치 저장\n",
    "    last_height = driver.execute_script(\"return document.documentElement.scrollHeight\")\n",
    "\n",
    "    # 스크롤을 가장 아래로 내림\n",
    "    driver.execute_script(\"window.scrollTo(0, document.documentElement.scrollHeight);\")\n",
    "\n",
    "    # 스크롤 내린 후 로딩 대기 시간\n",
    "    time.sleep(3)\n",
    "\n",
    "    # 더 보기 버튼 확인\n",
    "    wine_list_more_btn = driver.find_element(By.CSS_SELECTOR, '#wineListMoreBtn')\n",
    "    if wine_list_more_btn.is_displayed():\n",
    "        # 더 보기 버튼 클릭\n",
    "        wine_list_more_btn.click()\n",
    "    else:\n",
    "        # 더 이상 와인이 로드되지 않으면 반복 종료\n",
    "        break"
   ]
  },
  {
   "cell_type": "code",
   "execution_count": 23,
   "id": "a416eaed",
   "metadata": {},
   "outputs": [
    {
     "ename": "NoSuchElementException",
     "evalue": "Message: no such element: Unable to locate element: {\"method\":\"css selector\",\"selector\":\"#wine_list > li:nth-child(411) > div.txt-area > div.cnt-header > h3 > a\"}\n  (Session info: chrome=114.0.5735.134)\nStacktrace:\nBacktrace:\n\tGetHandleVerifier [0x008AA813+48355]\n\t(No symbol) [0x0083C4B1]\n\t(No symbol) [0x00745358]\n\t(No symbol) [0x007709A5]\n\t(No symbol) [0x00770B3B]\n\t(No symbol) [0x0079E232]\n\t(No symbol) [0x0078A784]\n\t(No symbol) [0x0079C922]\n\t(No symbol) [0x0078A536]\n\t(No symbol) [0x007682DC]\n\t(No symbol) [0x007693DD]\n\tGetHandleVerifier [0x00B0AABD+2539405]\n\tGetHandleVerifier [0x00B4A78F+2800735]\n\tGetHandleVerifier [0x00B4456C+2775612]\n\tGetHandleVerifier [0x009351E0+616112]\n\t(No symbol) [0x00845F8C]\n\t(No symbol) [0x00842328]\n\t(No symbol) [0x0084240B]\n\t(No symbol) [0x00834FF7]\n\tBaseThreadInitThunk [0x773E7D59+25]\n\tRtlInitializeExceptionChain [0x7776B74B+107]\n\tRtlClearBits [0x7776B6CF+191]\n",
     "output_type": "error",
     "traceback": [
      "\u001b[1;31m---------------------------------------------------------------------------\u001b[0m",
      "\u001b[1;31mNoSuchElementException\u001b[0m                    Traceback (most recent call last)",
      "Cell \u001b[1;32mIn[23], line 6\u001b[0m\n\u001b[0;32m      4\u001b[0m \u001b[38;5;28;01mwhile\u001b[39;00m \u001b[38;5;28;01mTrue\u001b[39;00m:\n\u001b[0;32m      5\u001b[0m     sel_wine \u001b[38;5;241m=\u001b[39m \u001b[38;5;124m'\u001b[39m\u001b[38;5;124m#wine_list > li:nth-child(\u001b[39m\u001b[38;5;124m'\u001b[39m \u001b[38;5;241m+\u001b[39m \u001b[38;5;28mstr\u001b[39m(i) \u001b[38;5;241m+\u001b[39m \u001b[38;5;124m'\u001b[39m\u001b[38;5;124m) > div.txt-area > div.cnt-header > h3 > a\u001b[39m\u001b[38;5;124m'\u001b[39m\n\u001b[1;32m----> 6\u001b[0m     elem_wine \u001b[38;5;241m=\u001b[39m \u001b[43mdriver\u001b[49m\u001b[38;5;241;43m.\u001b[39;49m\u001b[43mfind_element\u001b[49m\u001b[43m(\u001b[49m\u001b[43mBy\u001b[49m\u001b[38;5;241;43m.\u001b[39;49m\u001b[43mCSS_SELECTOR\u001b[49m\u001b[43m,\u001b[49m\u001b[43m \u001b[49m\u001b[43msel_wine\u001b[49m\u001b[43m)\u001b[49m\n\u001b[0;32m      8\u001b[0m     \u001b[38;5;66;03m# 와인 클릭\u001b[39;00m\n\u001b[0;32m      9\u001b[0m     elem_wine\u001b[38;5;241m.\u001b[39mclick()\n",
      "File \u001b[1;32m~\\anaconda3\\lib\\site-packages\\selenium\\webdriver\\remote\\webdriver.py:831\u001b[0m, in \u001b[0;36mWebDriver.find_element\u001b[1;34m(self, by, value)\u001b[0m\n\u001b[0;32m    828\u001b[0m     by \u001b[38;5;241m=\u001b[39m By\u001b[38;5;241m.\u001b[39mCSS_SELECTOR\n\u001b[0;32m    829\u001b[0m     value \u001b[38;5;241m=\u001b[39m \u001b[38;5;124mf\u001b[39m\u001b[38;5;124m'\u001b[39m\u001b[38;5;124m[name=\u001b[39m\u001b[38;5;124m\"\u001b[39m\u001b[38;5;132;01m{\u001b[39;00mvalue\u001b[38;5;132;01m}\u001b[39;00m\u001b[38;5;124m\"\u001b[39m\u001b[38;5;124m]\u001b[39m\u001b[38;5;124m'\u001b[39m\n\u001b[1;32m--> 831\u001b[0m \u001b[38;5;28;01mreturn\u001b[39;00m \u001b[38;5;28;43mself\u001b[39;49m\u001b[38;5;241;43m.\u001b[39;49m\u001b[43mexecute\u001b[49m\u001b[43m(\u001b[49m\u001b[43mCommand\u001b[49m\u001b[38;5;241;43m.\u001b[39;49m\u001b[43mFIND_ELEMENT\u001b[49m\u001b[43m,\u001b[49m\u001b[43m \u001b[49m\u001b[43m{\u001b[49m\u001b[38;5;124;43m\"\u001b[39;49m\u001b[38;5;124;43musing\u001b[39;49m\u001b[38;5;124;43m\"\u001b[39;49m\u001b[43m:\u001b[49m\u001b[43m \u001b[49m\u001b[43mby\u001b[49m\u001b[43m,\u001b[49m\u001b[43m \u001b[49m\u001b[38;5;124;43m\"\u001b[39;49m\u001b[38;5;124;43mvalue\u001b[39;49m\u001b[38;5;124;43m\"\u001b[39;49m\u001b[43m:\u001b[49m\u001b[43m \u001b[49m\u001b[43mvalue\u001b[49m\u001b[43m}\u001b[49m\u001b[43m)\u001b[49m[\u001b[38;5;124m\"\u001b[39m\u001b[38;5;124mvalue\u001b[39m\u001b[38;5;124m\"\u001b[39m]\n",
      "File \u001b[1;32m~\\anaconda3\\lib\\site-packages\\selenium\\webdriver\\remote\\webdriver.py:440\u001b[0m, in \u001b[0;36mWebDriver.execute\u001b[1;34m(self, driver_command, params)\u001b[0m\n\u001b[0;32m    438\u001b[0m response \u001b[38;5;241m=\u001b[39m \u001b[38;5;28mself\u001b[39m\u001b[38;5;241m.\u001b[39mcommand_executor\u001b[38;5;241m.\u001b[39mexecute(driver_command, params)\n\u001b[0;32m    439\u001b[0m \u001b[38;5;28;01mif\u001b[39;00m response:\n\u001b[1;32m--> 440\u001b[0m     \u001b[38;5;28;43mself\u001b[39;49m\u001b[38;5;241;43m.\u001b[39;49m\u001b[43merror_handler\u001b[49m\u001b[38;5;241;43m.\u001b[39;49m\u001b[43mcheck_response\u001b[49m\u001b[43m(\u001b[49m\u001b[43mresponse\u001b[49m\u001b[43m)\u001b[49m\n\u001b[0;32m    441\u001b[0m     response[\u001b[38;5;124m\"\u001b[39m\u001b[38;5;124mvalue\u001b[39m\u001b[38;5;124m\"\u001b[39m] \u001b[38;5;241m=\u001b[39m \u001b[38;5;28mself\u001b[39m\u001b[38;5;241m.\u001b[39m_unwrap_value(response\u001b[38;5;241m.\u001b[39mget(\u001b[38;5;124m\"\u001b[39m\u001b[38;5;124mvalue\u001b[39m\u001b[38;5;124m\"\u001b[39m, \u001b[38;5;28;01mNone\u001b[39;00m))\n\u001b[0;32m    442\u001b[0m     \u001b[38;5;28;01mreturn\u001b[39;00m response\n",
      "File \u001b[1;32m~\\anaconda3\\lib\\site-packages\\selenium\\webdriver\\remote\\errorhandler.py:245\u001b[0m, in \u001b[0;36mErrorHandler.check_response\u001b[1;34m(self, response)\u001b[0m\n\u001b[0;32m    243\u001b[0m         alert_text \u001b[38;5;241m=\u001b[39m value[\u001b[38;5;124m\"\u001b[39m\u001b[38;5;124malert\u001b[39m\u001b[38;5;124m\"\u001b[39m]\u001b[38;5;241m.\u001b[39mget(\u001b[38;5;124m\"\u001b[39m\u001b[38;5;124mtext\u001b[39m\u001b[38;5;124m\"\u001b[39m)\n\u001b[0;32m    244\u001b[0m     \u001b[38;5;28;01mraise\u001b[39;00m exception_class(message, screen, stacktrace, alert_text)  \u001b[38;5;66;03m# type: ignore[call-arg]  # mypy is not smart enough here\u001b[39;00m\n\u001b[1;32m--> 245\u001b[0m \u001b[38;5;28;01mraise\u001b[39;00m exception_class(message, screen, stacktrace)\n",
      "\u001b[1;31mNoSuchElementException\u001b[0m: Message: no such element: Unable to locate element: {\"method\":\"css selector\",\"selector\":\"#wine_list > li:nth-child(411) > div.txt-area > div.cnt-header > h3 > a\"}\n  (Session info: chrome=114.0.5735.134)\nStacktrace:\nBacktrace:\n\tGetHandleVerifier [0x008AA813+48355]\n\t(No symbol) [0x0083C4B1]\n\t(No symbol) [0x00745358]\n\t(No symbol) [0x007709A5]\n\t(No symbol) [0x00770B3B]\n\t(No symbol) [0x0079E232]\n\t(No symbol) [0x0078A784]\n\t(No symbol) [0x0079C922]\n\t(No symbol) [0x0078A536]\n\t(No symbol) [0x007682DC]\n\t(No symbol) [0x007693DD]\n\tGetHandleVerifier [0x00B0AABD+2539405]\n\tGetHandleVerifier [0x00B4A78F+2800735]\n\tGetHandleVerifier [0x00B4456C+2775612]\n\tGetHandleVerifier [0x009351E0+616112]\n\t(No symbol) [0x00845F8C]\n\t(No symbol) [0x00842328]\n\t(No symbol) [0x0084240B]\n\t(No symbol) [0x00834FF7]\n\tBaseThreadInitThunk [0x773E7D59+25]\n\tRtlInitializeExceptionChain [0x7776B74B+107]\n\tRtlClearBits [0x7776B6CF+191]\n"
     ]
    }
   ],
   "source": [
    "result = pd.DataFrame(columns=['당도', '바디', '산도', '타닌'])\n",
    "\n",
    "i = 1\n",
    "while True:\n",
    "    sel_wine = '#wine_list > li:nth-child(' + str(i) + ') > div.txt-area > div.cnt-header > h3 > a'\n",
    "    elem_wine = driver.find_element(By.CSS_SELECTOR, sel_wine)\n",
    "    \n",
    "    # 와인 클릭\n",
    "    elem_wine.click()\n",
    "    time.sleep(3)\n",
    "\n",
    "    # 작업 수행\n",
    "    new_frame = pd.DataFrame(columns=['당도', '바디', '산도', '타닌'])\n",
    "    for a in range(1, 5):\n",
    "        elems = driver.find_elements(By.CSS_SELECTOR, 'body > section > div.inner > div.clear > div.wine-top-right > div.wine-components > ul > li:nth-child(' + str(a) + ') > div > a')\n",
    "        a_on_count = 0\n",
    "\n",
    "        for elem in elems:\n",
    "            if elem.tag_name == 'a' and 'on' in elem.get_attribute('class'):\n",
    "                a_on_count += 1\n",
    "\n",
    "        # 해당 열에 값을 추가\n",
    "        if a == 1:\n",
    "            new_frame.loc[0, '당도'] = a_on_count\n",
    "        elif a == 2:\n",
    "            new_frame.loc[0, '바디'] = a_on_count\n",
    "        elif a == 3:\n",
    "            new_frame.loc[0, '산도'] = a_on_count\n",
    "        elif a == 4:\n",
    "            new_frame.loc[0, '타닌'] = a_on_count\n",
    "\n",
    "    # 새로운 프레임을 결과에 추가\n",
    "    result = pd.concat([result, new_frame], ignore_index=True)\n",
    "\n",
    "    # 이전 페이지로 돌아가기\n",
    "    driver.back()\n",
    "    time.sleep(3)\n",
    "\n",
    "    # 다음 와인을 클릭하기 위해 i 값을 증가시킴\n",
    "    i += 1\n",
    "\n",
    "    # 더 이상 클릭할 와인이 없으면 반복 종료\n",
    "    if not driver.find_elements(By.CSS_SELECTOR, sel_wine):\n",
    "        break"
   ]
  },
  {
   "cell_type": "code",
   "execution_count": 24,
   "id": "3b55365d",
   "metadata": {},
   "outputs": [
    {
     "data": {
      "text/html": [
       "<div>\n",
       "<style scoped>\n",
       "    .dataframe tbody tr th:only-of-type {\n",
       "        vertical-align: middle;\n",
       "    }\n",
       "\n",
       "    .dataframe tbody tr th {\n",
       "        vertical-align: top;\n",
       "    }\n",
       "\n",
       "    .dataframe thead th {\n",
       "        text-align: right;\n",
       "    }\n",
       "</style>\n",
       "<table border=\"1\" class=\"dataframe\">\n",
       "  <thead>\n",
       "    <tr style=\"text-align: right;\">\n",
       "      <th></th>\n",
       "      <th>당도</th>\n",
       "      <th>바디</th>\n",
       "      <th>산도</th>\n",
       "      <th>타닌</th>\n",
       "    </tr>\n",
       "  </thead>\n",
       "  <tbody>\n",
       "    <tr>\n",
       "      <th>0</th>\n",
       "      <td>1</td>\n",
       "      <td>3</td>\n",
       "      <td>3</td>\n",
       "      <td>3</td>\n",
       "    </tr>\n",
       "    <tr>\n",
       "      <th>1</th>\n",
       "      <td>1</td>\n",
       "      <td>3</td>\n",
       "      <td>3</td>\n",
       "      <td>2</td>\n",
       "    </tr>\n",
       "    <tr>\n",
       "      <th>2</th>\n",
       "      <td>2</td>\n",
       "      <td>4</td>\n",
       "      <td>3</td>\n",
       "      <td>1</td>\n",
       "    </tr>\n",
       "    <tr>\n",
       "      <th>3</th>\n",
       "      <td>1</td>\n",
       "      <td>4</td>\n",
       "      <td>3</td>\n",
       "      <td>3</td>\n",
       "    </tr>\n",
       "    <tr>\n",
       "      <th>4</th>\n",
       "      <td>4</td>\n",
       "      <td>2</td>\n",
       "      <td>4</td>\n",
       "      <td>3</td>\n",
       "    </tr>\n",
       "    <tr>\n",
       "      <th>...</th>\n",
       "      <td>...</td>\n",
       "      <td>...</td>\n",
       "      <td>...</td>\n",
       "      <td>...</td>\n",
       "    </tr>\n",
       "    <tr>\n",
       "      <th>405</th>\n",
       "      <td>1</td>\n",
       "      <td>3</td>\n",
       "      <td>4</td>\n",
       "      <td>4</td>\n",
       "    </tr>\n",
       "    <tr>\n",
       "      <th>406</th>\n",
       "      <td>1</td>\n",
       "      <td>4</td>\n",
       "      <td>4</td>\n",
       "      <td>4</td>\n",
       "    </tr>\n",
       "    <tr>\n",
       "      <th>407</th>\n",
       "      <td>1</td>\n",
       "      <td>3</td>\n",
       "      <td>3</td>\n",
       "      <td>1</td>\n",
       "    </tr>\n",
       "    <tr>\n",
       "      <th>408</th>\n",
       "      <td>1</td>\n",
       "      <td>4</td>\n",
       "      <td>4</td>\n",
       "      <td>5</td>\n",
       "    </tr>\n",
       "    <tr>\n",
       "      <th>409</th>\n",
       "      <td>1</td>\n",
       "      <td>3</td>\n",
       "      <td>3</td>\n",
       "      <td>2</td>\n",
       "    </tr>\n",
       "  </tbody>\n",
       "</table>\n",
       "<p>410 rows × 4 columns</p>\n",
       "</div>"
      ],
      "text/plain": [
       "    당도 바디 산도 타닌\n",
       "0    1  3  3  3\n",
       "1    1  3  3  2\n",
       "2    2  4  3  1\n",
       "3    1  4  3  3\n",
       "4    4  2  4  3\n",
       "..  .. .. .. ..\n",
       "405  1  3  4  4\n",
       "406  1  4  4  4\n",
       "407  1  3  3  1\n",
       "408  1  4  4  5\n",
       "409  1  3  3  2\n",
       "\n",
       "[410 rows x 4 columns]"
      ]
     },
     "execution_count": 24,
     "metadata": {},
     "output_type": "execute_result"
    }
   ],
   "source": [
    "result"
   ]
  },
  {
   "cell_type": "code",
   "execution_count": 25,
   "id": "e83329bf",
   "metadata": {},
   "outputs": [],
   "source": [
    "result.to_csv('wine_character.csv',encoding='utf-8-sig')"
   ]
  }
 ],
 "metadata": {
  "kernelspec": {
   "display_name": "Python 3 (ipykernel)",
   "language": "python",
   "name": "python3"
  },
  "language_info": {
   "codemirror_mode": {
    "name": "ipython",
    "version": 3
   },
   "file_extension": ".py",
   "mimetype": "text/x-python",
   "name": "python",
   "nbconvert_exporter": "python",
   "pygments_lexer": "ipython3",
   "version": "3.10.9"
  }
 },
 "nbformat": 4,
 "nbformat_minor": 5
}
