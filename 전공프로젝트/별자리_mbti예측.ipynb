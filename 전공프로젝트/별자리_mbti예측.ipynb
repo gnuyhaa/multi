{
 "cells": [
  {
   "cell_type": "code",
   "execution_count": 14,
   "id": "72c033c0",
   "metadata": {},
   "outputs": [
    {
     "name": "stderr",
     "output_type": "stream",
     "text": [
      "C:\\Users\\guddk\\anaconda3\\lib\\site-packages\\sklearn\\experimental\\enable_hist_gradient_boosting.py:16: UserWarning: Since version 1.0, it is not needed to import enable_hist_gradient_boosting anymore. HistGradientBoostingClassifier and HistGradientBoostingRegressor are now stable and can be normally imported from sklearn.ensemble.\n",
      "  warnings.warn(\n"
     ]
    }
   ],
   "source": [
    "# Data Analysis\n",
    "import pandas as pd\n",
    "import numpy as np\n",
    "from numpy import asarray\n",
    "from numpy import savetxt\n",
    "from numpy import loadtxt\n",
    "import pickle as pkl\n",
    "from scipy import sparse\n",
    "\n",
    "# Data Visualization\n",
    "import seaborn as sns\n",
    "import matplotlib.pyplot as plt\n",
    "import wordcloud\n",
    "from wordcloud import WordCloud, STOPWORDS\n",
    "\n",
    "# Text Processing\n",
    "import re\n",
    "import itertools\n",
    "import string\n",
    "import collections\n",
    "from collections import Counter\n",
    "from sklearn.preprocessing import LabelEncoder\n",
    "import nltk\n",
    "from nltk.classify import NaiveBayesClassifier\n",
    "from nltk.corpus import stopwords\n",
    "from nltk import word_tokenize\n",
    "from nltk.tokenize import word_tokenize\n",
    "from nltk.stem import PorterStemmer, WordNetLemmatizer\n",
    "\n",
    "# Machine Learning packages\n",
    "import sklearn\n",
    "from sklearn.feature_extraction.text import CountVectorizer\n",
    "from sklearn.feature_extraction.text import TfidfVectorizer\n",
    "from sklearn.feature_extraction.text import TfidfTransformer\n",
    "import sklearn.cluster as cluster\n",
    "from sklearn.manifold import TSNE\n",
    "\n",
    "# Model training and evaluation\n",
    "from sklearn.model_selection import train_test_split\n",
    "\n",
    "#Models\n",
    "from sklearn.linear_model import LogisticRegression\n",
    "from sklearn.linear_model import SGDClassifier\n",
    "from sklearn.neighbors import KNeighborsClassifier\n",
    "from sklearn.naive_bayes import GaussianNB\n",
    "from sklearn.svm import SVC, LinearSVC\n",
    "from sklearn.ensemble import RandomForestClassifier, GradientBoostingClassifier\n",
    "from xgboost import XGBClassifier\n",
    "from xgboost import plot_importance\n",
    "from sklearn.naive_bayes import MultinomialNB\n",
    "from sklearn.experimental import enable_hist_gradient_boosting\n",
    "from sklearn.ensemble import HistGradientBoostingClassifier\n",
    "from imblearn.over_sampling import SMOTE\n",
    "import plotly.express as px\n",
    "from sklearn.tree import DecisionTreeClassifier\n",
    "\n",
    "#Metrics\n",
    "from sklearn.metrics import r2_score, mean_squared_error, mean_absolute_error, accuracy_score, balanced_accuracy_score\n",
    "from sklearn.metrics import precision_score, recall_score, f1_score, multilabel_confusion_matrix, confusion_matrix\n",
    "from sklearn.metrics import classification_report\n",
    "\n",
    "# Ignore noise warning\n",
    "import warnings\n",
    "warnings.filterwarnings(\"ignore\")"
   ]
  },
  {
   "cell_type": "code",
   "execution_count": null,
   "id": "2de9b6c3",
   "metadata": {},
   "outputs": [],
   "source": []
  },
  {
   "cell_type": "code",
   "execution_count": 41,
   "id": "32baa0a8",
   "metadata": {},
   "outputs": [
    {
     "data": {
      "text/html": [
       "<div>\n",
       "<style scoped>\n",
       "    .dataframe tbody tr th:only-of-type {\n",
       "        vertical-align: middle;\n",
       "    }\n",
       "\n",
       "    .dataframe tbody tr th {\n",
       "        vertical-align: top;\n",
       "    }\n",
       "\n",
       "    .dataframe thead th {\n",
       "        text-align: right;\n",
       "    }\n",
       "</style>\n",
       "<table border=\"1\" class=\"dataframe\">\n",
       "  <thead>\n",
       "    <tr style=\"text-align: right;\">\n",
       "      <th></th>\n",
       "      <th>Unnamed: 0</th>\n",
       "      <th>type</th>\n",
       "      <th>authors</th>\n",
       "      <th>posts</th>\n",
       "    </tr>\n",
       "  </thead>\n",
       "  <tbody>\n",
       "    <tr>\n",
       "      <th>0</th>\n",
       "      <td>0</td>\n",
       "      <td>Libra</td>\n",
       "      <td>bejandaruwallain</td>\n",
       "      <td>|||||||||||||||||||||||||||||||||A career is a...</td>\n",
       "    </tr>\n",
       "    <tr>\n",
       "      <th>1</th>\n",
       "      <td>1</td>\n",
       "      <td>Libra</td>\n",
       "      <td>Ricksterscope</td>\n",
       "      <td>\\n\\nOur second eclipse of 2021 will be a  sol...</td>\n",
       "    </tr>\n",
       "    <tr>\n",
       "      <th>2</th>\n",
       "      <td>2</td>\n",
       "      <td>Libra</td>\n",
       "      <td>lofiANDcappuccino</td>\n",
       "      <td>||||||||||||||||||||||||Thank you 💜|||||||||||...</td>\n",
       "    </tr>\n",
       "    <tr>\n",
       "      <th>3</th>\n",
       "      <td>3</td>\n",
       "      <td>Libra</td>\n",
       "      <td>xSinfulbutterflyx</td>\n",
       "      <td>||||||||||||||||||||||||||||||[removed]|||[rem...</td>\n",
       "    </tr>\n",
       "    <tr>\n",
       "      <th>4</th>\n",
       "      <td>4</td>\n",
       "      <td>Scorpio</td>\n",
       "      <td>l6_6l</td>\n",
       "      <td>Supreme Court will not allow same sex marriage...</td>\n",
       "    </tr>\n",
       "    <tr>\n",
       "      <th>...</th>\n",
       "      <td>...</td>\n",
       "      <td>...</td>\n",
       "      <td>...</td>\n",
       "      <td>...</td>\n",
       "    </tr>\n",
       "    <tr>\n",
       "      <th>1577</th>\n",
       "      <td>378</td>\n",
       "      <td>Virgo</td>\n",
       "      <td>huffdin</td>\n",
       "      <td>Thank you! :)|||Thank you so much! :)|||Thank ...</td>\n",
       "    </tr>\n",
       "    <tr>\n",
       "      <th>1578</th>\n",
       "      <td>379</td>\n",
       "      <td>Virgo</td>\n",
       "      <td>Love-M-designs</td>\n",
       "      <td>|||</td>\n",
       "    </tr>\n",
       "    <tr>\n",
       "      <th>1579</th>\n",
       "      <td>380</td>\n",
       "      <td>Virgo</td>\n",
       "      <td>Xingjinkai</td>\n",
       "      <td>|||Happiness and love 🥰|||She will connect wit...</td>\n",
       "    </tr>\n",
       "    <tr>\n",
       "      <th>1580</th>\n",
       "      <td>381</td>\n",
       "      <td>Virgo</td>\n",
       "      <td>CasLyn817</td>\n",
       "      <td>$9.00 a carton in New Hampshire.|||I didn’t wa...</td>\n",
       "    </tr>\n",
       "    <tr>\n",
       "      <th>1581</th>\n",
       "      <td>382</td>\n",
       "      <td>Virgo</td>\n",
       "      <td>xotacaraa</td>\n",
       "      <td>||||||Thank you!!|||It won’t say OnlyFans. It’...</td>\n",
       "    </tr>\n",
       "  </tbody>\n",
       "</table>\n",
       "<p>1582 rows × 4 columns</p>\n",
       "</div>"
      ],
      "text/plain": [
       "      Unnamed: 0     type            authors  \\\n",
       "0              0    Libra   bejandaruwallain   \n",
       "1              1    Libra      Ricksterscope   \n",
       "2              2    Libra  lofiANDcappuccino   \n",
       "3              3    Libra  xSinfulbutterflyx   \n",
       "4              4  Scorpio              l6_6l   \n",
       "...          ...      ...                ...   \n",
       "1577         378    Virgo            huffdin   \n",
       "1578         379    Virgo     Love-M-designs   \n",
       "1579         380    Virgo         Xingjinkai   \n",
       "1580         381    Virgo          CasLyn817   \n",
       "1581         382    Virgo          xotacaraa   \n",
       "\n",
       "                                                  posts  \n",
       "0     |||||||||||||||||||||||||||||||||A career is a...  \n",
       "1      \\n\\nOur second eclipse of 2021 will be a  sol...  \n",
       "2     ||||||||||||||||||||||||Thank you 💜|||||||||||...  \n",
       "3     ||||||||||||||||||||||||||||||[removed]|||[rem...  \n",
       "4     Supreme Court will not allow same sex marriage...  \n",
       "...                                                 ...  \n",
       "1577  Thank you! :)|||Thank you so much! :)|||Thank ...  \n",
       "1578                                                |||  \n",
       "1579  |||Happiness and love 🥰|||She will connect wit...  \n",
       "1580  $9.00 a carton in New Hampshire.|||I didn’t wa...  \n",
       "1581  ||||||Thank you!!|||It won’t say OnlyFans. It’...  \n",
       "\n",
       "[1582 rows x 4 columns]"
      ]
     },
     "execution_count": 41,
     "metadata": {},
     "output_type": "execute_result"
    }
   ],
   "source": [
    "data_set = pd.read_csv('./data/zodiac_data.csv')\n",
    "data_set"
   ]
  },
  {
   "cell_type": "code",
   "execution_count": 56,
   "id": "0eed4913",
   "metadata": {},
   "outputs": [],
   "source": [
    "# posts 가 null 인행 삭제.\n",
    "data_set[data_set['posts'].isnull()]\n",
    "for i in data_set[data_set['posts'].isnull()].index:\n",
    "    data_set.drop(index=[i], inplace=True)"
   ]
  },
  {
   "cell_type": "code",
   "execution_count": 57,
   "id": "1f94db7b",
   "metadata": {},
   "outputs": [],
   "source": [
    "data_set= data_set.reset_index(drop=True)"
   ]
  },
  {
   "cell_type": "code",
   "execution_count": 58,
   "id": "9df0f910",
   "metadata": {},
   "outputs": [
    {
     "data": {
      "text/html": [
       "<div>\n",
       "<style scoped>\n",
       "    .dataframe tbody tr th:only-of-type {\n",
       "        vertical-align: middle;\n",
       "    }\n",
       "\n",
       "    .dataframe tbody tr th {\n",
       "        vertical-align: top;\n",
       "    }\n",
       "\n",
       "    .dataframe thead th {\n",
       "        text-align: right;\n",
       "    }\n",
       "</style>\n",
       "<table border=\"1\" class=\"dataframe\">\n",
       "  <thead>\n",
       "    <tr style=\"text-align: right;\">\n",
       "      <th></th>\n",
       "      <th>Unnamed: 0</th>\n",
       "      <th>type</th>\n",
       "      <th>authors</th>\n",
       "      <th>posts</th>\n",
       "    </tr>\n",
       "  </thead>\n",
       "  <tbody>\n",
       "    <tr>\n",
       "      <th>0</th>\n",
       "      <td>0</td>\n",
       "      <td>Libra</td>\n",
       "      <td>bejandaruwallain</td>\n",
       "      <td>|||||||||||||||||||||||||||||||||A career is a...</td>\n",
       "    </tr>\n",
       "    <tr>\n",
       "      <th>1</th>\n",
       "      <td>1</td>\n",
       "      <td>Libra</td>\n",
       "      <td>Ricksterscope</td>\n",
       "      <td>\\n\\nOur second eclipse of 2021 will be a  sol...</td>\n",
       "    </tr>\n",
       "    <tr>\n",
       "      <th>2</th>\n",
       "      <td>2</td>\n",
       "      <td>Libra</td>\n",
       "      <td>lofiANDcappuccino</td>\n",
       "      <td>||||||||||||||||||||||||Thank you 💜|||||||||||...</td>\n",
       "    </tr>\n",
       "    <tr>\n",
       "      <th>3</th>\n",
       "      <td>3</td>\n",
       "      <td>Libra</td>\n",
       "      <td>xSinfulbutterflyx</td>\n",
       "      <td>||||||||||||||||||||||||||||||[removed]|||[rem...</td>\n",
       "    </tr>\n",
       "    <tr>\n",
       "      <th>4</th>\n",
       "      <td>4</td>\n",
       "      <td>Scorpio</td>\n",
       "      <td>l6_6l</td>\n",
       "      <td>Supreme Court will not allow same sex marriage...</td>\n",
       "    </tr>\n",
       "    <tr>\n",
       "      <th>...</th>\n",
       "      <td>...</td>\n",
       "      <td>...</td>\n",
       "      <td>...</td>\n",
       "      <td>...</td>\n",
       "    </tr>\n",
       "    <tr>\n",
       "      <th>1532</th>\n",
       "      <td>378</td>\n",
       "      <td>Virgo</td>\n",
       "      <td>huffdin</td>\n",
       "      <td>Thank you! :)|||Thank you so much! :)|||Thank ...</td>\n",
       "    </tr>\n",
       "    <tr>\n",
       "      <th>1533</th>\n",
       "      <td>379</td>\n",
       "      <td>Virgo</td>\n",
       "      <td>Love-M-designs</td>\n",
       "      <td>|||</td>\n",
       "    </tr>\n",
       "    <tr>\n",
       "      <th>1534</th>\n",
       "      <td>380</td>\n",
       "      <td>Virgo</td>\n",
       "      <td>Xingjinkai</td>\n",
       "      <td>|||Happiness and love 🥰|||She will connect wit...</td>\n",
       "    </tr>\n",
       "    <tr>\n",
       "      <th>1535</th>\n",
       "      <td>381</td>\n",
       "      <td>Virgo</td>\n",
       "      <td>CasLyn817</td>\n",
       "      <td>$9.00 a carton in New Hampshire.|||I didn’t wa...</td>\n",
       "    </tr>\n",
       "    <tr>\n",
       "      <th>1536</th>\n",
       "      <td>382</td>\n",
       "      <td>Virgo</td>\n",
       "      <td>xotacaraa</td>\n",
       "      <td>||||||Thank you!!|||It won’t say OnlyFans. It’...</td>\n",
       "    </tr>\n",
       "  </tbody>\n",
       "</table>\n",
       "<p>1537 rows × 4 columns</p>\n",
       "</div>"
      ],
      "text/plain": [
       "      Unnamed: 0     type            authors  \\\n",
       "0              0    Libra   bejandaruwallain   \n",
       "1              1    Libra      Ricksterscope   \n",
       "2              2    Libra  lofiANDcappuccino   \n",
       "3              3    Libra  xSinfulbutterflyx   \n",
       "4              4  Scorpio              l6_6l   \n",
       "...          ...      ...                ...   \n",
       "1532         378    Virgo            huffdin   \n",
       "1533         379    Virgo     Love-M-designs   \n",
       "1534         380    Virgo         Xingjinkai   \n",
       "1535         381    Virgo          CasLyn817   \n",
       "1536         382    Virgo          xotacaraa   \n",
       "\n",
       "                                                  posts  \n",
       "0     |||||||||||||||||||||||||||||||||A career is a...  \n",
       "1      \\n\\nOur second eclipse of 2021 will be a  sol...  \n",
       "2     ||||||||||||||||||||||||Thank you 💜|||||||||||...  \n",
       "3     ||||||||||||||||||||||||||||||[removed]|||[rem...  \n",
       "4     Supreme Court will not allow same sex marriage...  \n",
       "...                                                 ...  \n",
       "1532  Thank you! :)|||Thank you so much! :)|||Thank ...  \n",
       "1533                                                |||  \n",
       "1534  |||Happiness and love 🥰|||She will connect wit...  \n",
       "1535  $9.00 a carton in New Hampshire.|||I didn’t wa...  \n",
       "1536  ||||||Thank you!!|||It won’t say OnlyFans. It’...  \n",
       "\n",
       "[1537 rows x 4 columns]"
      ]
     },
     "execution_count": 58,
     "metadata": {},
     "output_type": "execute_result"
    }
   ],
   "source": [
    "data_set"
   ]
  },
  {
   "cell_type": "code",
   "execution_count": 59,
   "id": "1ac2eba7",
   "metadata": {},
   "outputs": [],
   "source": [
    "# 필요한 칼럼만 뽑아내서 진행.\n",
    "data = data_set[['type', 'posts']]"
   ]
  },
  {
   "cell_type": "code",
   "execution_count": 60,
   "id": "5f586109",
   "metadata": {},
   "outputs": [
    {
     "data": {
      "text/plain": [
       "Aquarius       259\n",
       "Capricorn      251\n",
       "Scorpio        234\n",
       "Pisces         209\n",
       "Sagittarius    205\n",
       "Gemini         110\n",
       "Aries          102\n",
       "Taurus          63\n",
       "Virgo           40\n",
       "Cancer          32\n",
       "Leo             28\n",
       "Libra            4\n",
       "Name: type, dtype: int64"
      ]
     },
     "execution_count": 60,
     "metadata": {},
     "output_type": "execute_result"
    }
   ],
   "source": [
    "data['type'].value_counts()"
   ]
  },
  {
   "cell_type": "code",
   "execution_count": 61,
   "id": "e84c5916",
   "metadata": {},
   "outputs": [
    {
     "data": {
      "text/plain": [
       "\"|||||||||||||||||||||||||||||||||A career is a very important part of every person's life. [Career astrology](https://www.blogsonnet.com/2023/05/09/choose-your-career-according-to-astrology/) provides detailed information about a person's career and related topics based on the date of birth. According to astrology, future events and changes in a person's life can be predicted on the basis of the date and time of birth. If you want to know about your career through astrology, then you should contact an astrologer by mentioning your date, time, and place of birth. They will be given the necessary information to prepare your horoscope and then they will advise you about your career.||||||||||||||||||||||||||||||||||||[Marriage Predictions](https://preview.redd.it/f6vfwmn4v6xa1.png?width=626&amp;format=png&amp;auto=webp&amp;v=enabled&amp;s=e4b9d83a6f3f2f1a5009e67e8f143e69478a7985)\\n\\nIf you have any marriage-related problems, visit us on the [bejandaruwalla.com](https://bejandaruwalla.com/) website. We have a separate section to answer all the questions related to marriage, Where our expert astrologer will look into your issues deeply Find solutions for a lifetime, and boost lifetime happiness and success in life.\\n\\nAstrology can help in solving different married life problems. In such a case, the couple’s horoscope is studied and analyzed to find planets, which are not in alignment with the desired expectations. Our astrologer will make use of Vedic methods to study the action of negative planets and help you to deal with married life problems in an easy way.\\n\\nOur motive is to provide you with a solution that will benefit you for a lifetime. Consult our [marriage predictions](https://bejandaruwalla.com/pages/marriage-prediction) specialists online and get the proper solutions for your life and have a prospecting married life.\\n\\nThe string of marriage relationships is very delicate. It takes a lot of effort to handle it. Despite this, some people still face problems in their married life, so today we are going to tell you the simplest and surest way to solve all those problems.\\n\\n**When after marriage, the thoughts of the husband and wife are not in sync**\\n\\nWhen there is no friendship between the zodiac signs of husband and wife, then such a problem arises.\\n\\nThe husband’s thoughts and wife’s thoughts don’t match\\n\\nIf there is enmity between the planets, then there is a debate every day.\\n\\n**Remedies**\\n\\n* In such a situation, husband and wife should worship Lord Shiva regularly.\\n* White things should be donated every Monday\\n* Either put white flowers in the bedroom or pictures of white flowers\\n\\n**When husband and wife have to live far away after marriage**\\n\\n* When there is a Dasha of Shani or Rahu immediately after marriage, then the husband and wife have to live far away.\\n* Here one has to stay away due to career or job.\\n* And in spite of many efforts, husband, and wife are not able to live together.\\n\\n**Remedies**\\n\\n* Mustard oil lamps should be lit under Peepal every Saturday.\\n* A joint picture of husband and wife should be placed on the north wall of your bedroom.\\n\\n**When family members interfere in the life of husband and wife after marriage**\\n\\n* Generally, such a problem occurs when the moon is bad.\\n* Whose moon is bad, the interference of his family members is more.\\n* Due to Mars, sometimes it leads to separation and litigation.\\n\\n**Remedies**\\n\\n* plant lots of flowers in the house\\n* Keep your bedroom and kitchen clean\\n* Adequate arrangement of sunlight in the house\\n* Apply mango leaves on the main door of the house\\n\\n**When the health of the husband and wife is giving problems after marriage**\\n\\n* either of the spouses is a Mangali, or\\n* If the elements of both zodiac signs are different then this type of problem arises.\\n* This problem also occurs if the Jupiter of the wife is very bad.\\n\\n**Remedies**\\n\\n* Recite Sunderkand every Tuesday and Saturday at home\\n* Establish Shiva Parvati at the place of worship\\n* The wife should worship the Tulsi plant regularly.\\n\\n**When there is doubt between husband and wife after marriage**\\n\\n* moon is weak\\n* So unnecessary doubt arises between husband and wife.\\n\\n**Remedies**\\n\\n* Chant Gayatri Mantra 108 times every morning\\n* keep diet and thoughts sattvic\\n* Doubts should be removed from the mind of a life partner, pray like this\\n\\n**When there is a situation of violence between husband and wife after marriage**\\n\\n* If there is the effect of Mangal Rahu, Mangal Shani, or Mangal Sun in the horoscope, then there is violence between husband and wife.\\n* Such a defect is most dangerous in Mangali horoscopes.\\n* Sometimes the husband or wife also becomes the victim of a serious accident.\\n\\n**Remedies**\\n\\n* Husband and wife should get Rudrabhishek done together\\n* Chant “Namah Shivay” regularly\\n* Use red and black clothes sparingly\\n\\n**Conclusion**\\n\\nIf a boy or girl is capable, but they are not able to get married, then the reason for this can also be Kundali Dosh. In astrology, some such yogas of the horoscope have been told, due to which there is a delay in marriage. Due to these yogas, there are unnecessary obstacles in the marriage of a suitable boy or girl and even after many efforts, the marriage does not happen soon. If you are worried about your marriage then [talk to astrologers](https://bejandaruwalla.com/pages/astrology-consultation-online).|||||||||||||||||||||[https://bejandaruwalla.com/blogs/astrology/know-about-nakshatra-according-to-astrology](https://bejandaruwalla.com/blogs/astrology/know-about-nakshatra-according-to-astrology)|||[https://bejandaruwalla.com/blogs/astrology/saturn-and-rahu-conjunction](https://bejandaruwalla.com/blogs/astrology/saturn-and-rahu-conjunction)||||||||||||||||||||||||||||||||||||||||||||||||||||||||||||||||||||||||||||||[https://bejandaruwalla.com/pages/aquarius-horoscope-2024](https://bejandaruwalla.com/pages/aquarius-horoscope-2024)|||||||||||||||||||||[https://bejandaruwalla.com/blogs/planet-transit/saturn-transit-in-aquarius-17th-january-2023](https://bejandaruwalla.com/blogs/planet-transit/saturn-transit-in-aquarius-17th-january-2023)|||[https://bejandaruwalla.com/blogs/astrology/Sun-and-saturn-conjunction](https://bejandaruwalla.com/blogs/astrology/Sun-and-saturn-conjunction)|||[removed]|||[https://bejandaruwalla.com/blogs/planet-transit/sun-transit-in-aquarius-13th-february-2023](https://bejandaruwalla.com/blogs/planet-transit/sun-transit-in-aquarius-13th-february-2023)|||[removed]|||||||||||||||||||||||||||||||||||||||||||||||||||||||||||||||||||||[removed]|||[removed]|||[removed]||||||||||||||||||\""
      ]
     },
     "execution_count": 61,
     "metadata": {},
     "output_type": "execute_result"
    }
   ],
   "source": [
    "data.posts[0]"
   ]
  },
  {
   "cell_type": "code",
   "execution_count": 62,
   "id": "148db0fe",
   "metadata": {},
   "outputs": [
    {
     "data": {
      "text/plain": [
       "(1537, 2)"
      ]
     },
     "execution_count": 62,
     "metadata": {},
     "output_type": "execute_result"
    }
   ],
   "source": [
    "# df 모양 확인\n",
    "data.shape"
   ]
  },
  {
   "cell_type": "code",
   "execution_count": 63,
   "id": "12502911",
   "metadata": {},
   "outputs": [
    {
     "data": {
      "text/plain": [
       "array(['Aquarius', 'Aries', 'Cancer', 'Capricorn', 'Gemini', 'Leo',\n",
       "       'Libra', 'Pisces', 'Sagittarius', 'Scorpio', 'Taurus', 'Virgo'],\n",
       "      dtype=object)"
      ]
     },
     "execution_count": 63,
     "metadata": {},
     "output_type": "execute_result"
    }
   ],
   "source": [
    "types = np.unique(np.array(data_set['type']))\n",
    "types"
   ]
  },
  {
   "cell_type": "code",
   "execution_count": 64,
   "id": "49f7960c",
   "metadata": {},
   "outputs": [
    {
     "data": {
      "image/png": "[encoded data removed]",
      "text/plain": [
       "<Figure size 1200x400 with 1 Axes>"
      ]
     },
     "metadata": {},
     "output_type": "display_data"
    }
   ],
   "source": [
    "#별자리 타입별 분포 확인.\n",
    "cnt_srs = data['type'].value_counts()\n",
    "plt.figure(figsize=(12,4))\n",
    "sns.barplot(x=cnt_srs.index,y= cnt_srs.values, alpha=0.8)\n",
    "plt.xlabel('Personality types', fontsize=12)\n",
    "plt.ylabel('No. of posts availables', fontsize=12)\n",
    "plt.show()"
   ]
  },
  {
   "cell_type": "code",
   "execution_count": 65,
   "id": "2d6b76c9",
   "metadata": {},
   "outputs": [],
   "source": [
    "df = data.copy()"
   ]
  },
  {
   "cell_type": "markdown",
   "id": "14e2cc74",
   "metadata": {},
   "source": [
    "### 전처리 진행"
   ]
  },
  {
   "cell_type": "code",
   "execution_count": 66,
   "id": "a6eaab03",
   "metadata": {},
   "outputs": [],
   "source": [
    "# 전처리용 함수 생성\n",
    "def clear_text(data):\n",
    "    data_length=[]\n",
    "    lemmatizer=WordNetLemmatizer()\n",
    "    cleaned_text=[]\n",
    "    for sentence in data.posts:\n",
    "        \n",
    "        \n",
    "#         링크에 해당하는 내용 삭제\n",
    "        sentence=re.sub('https?://[^\\s<>\"]+|www\\.[^\\s<>\"]+',' ',sentence)\n",
    "    \n",
    "#         글자를 제외한 특수기호 식제\n",
    "        sentence=re.sub('[^0-9a-z]',' ',sentence)\n",
    "    \n",
    "        sentence=sentence.lower()\n",
    "        data_length.append(len(sentence.split()))\n",
    "        cleaned_text.append(sentence)\n",
    "    return cleaned_text,data_length"
   ]
  },
  {
   "cell_type": "code",
   "execution_count": 67,
   "id": "fa2008a9",
   "metadata": {},
   "outputs": [
    {
     "data": {
      "text/html": [
       "<div>\n",
       "<style scoped>\n",
       "    .dataframe tbody tr th:only-of-type {\n",
       "        vertical-align: middle;\n",
       "    }\n",
       "\n",
       "    .dataframe tbody tr th {\n",
       "        vertical-align: top;\n",
       "    }\n",
       "\n",
       "    .dataframe thead th {\n",
       "        text-align: right;\n",
       "    }\n",
       "</style>\n",
       "<table border=\"1\" class=\"dataframe\">\n",
       "  <thead>\n",
       "    <tr style=\"text-align: right;\">\n",
       "      <th></th>\n",
       "      <th>type</th>\n",
       "      <th>posts</th>\n",
       "    </tr>\n",
       "  </thead>\n",
       "  <tbody>\n",
       "    <tr>\n",
       "      <th>0</th>\n",
       "      <td>Libra</td>\n",
       "      <td>|||||||||||||||||||||||||||||||||A career is a...</td>\n",
       "    </tr>\n",
       "    <tr>\n",
       "      <th>1</th>\n",
       "      <td>Libra</td>\n",
       "      <td>\\n\\nOur second eclipse of 2021 will be a  sol...</td>\n",
       "    </tr>\n",
       "    <tr>\n",
       "      <th>2</th>\n",
       "      <td>Libra</td>\n",
       "      <td>||||||||||||||||||||||||Thank you 💜|||||||||||...</td>\n",
       "    </tr>\n",
       "    <tr>\n",
       "      <th>3</th>\n",
       "      <td>Libra</td>\n",
       "      <td>||||||||||||||||||||||||||||||[removed]|||[rem...</td>\n",
       "    </tr>\n",
       "    <tr>\n",
       "      <th>4</th>\n",
       "      <td>Scorpio</td>\n",
       "      <td>Supreme Court will not allow same sex marriage...</td>\n",
       "    </tr>\n",
       "  </tbody>\n",
       "</table>\n",
       "</div>"
      ],
      "text/plain": [
       "      type                                              posts\n",
       "0    Libra  |||||||||||||||||||||||||||||||||A career is a...\n",
       "1    Libra   \\n\\nOur second eclipse of 2021 will be a  sol...\n",
       "2    Libra  ||||||||||||||||||||||||Thank you 💜|||||||||||...\n",
       "3    Libra  ||||||||||||||||||||||||||||||[removed]|||[rem...\n",
       "4  Scorpio  Supreme Court will not allow same sex marriage..."
      ]
     },
     "execution_count": 67,
     "metadata": {},
     "output_type": "execute_result"
    }
   ],
   "source": [
    "data.head(5)"
   ]
  },
  {
   "cell_type": "code",
   "execution_count": 68,
   "id": "109935ea",
   "metadata": {},
   "outputs": [],
   "source": [
    "# 전처리 진행\n",
    "data.posts, data_length=clear_text(data)"
   ]
  },
  {
   "cell_type": "code",
   "execution_count": 69,
   "id": "e7d54c63",
   "metadata": {},
   "outputs": [
    {
     "data": {
      "text/html": [
       "<div>\n",
       "<style scoped>\n",
       "    .dataframe tbody tr th:only-of-type {\n",
       "        vertical-align: middle;\n",
       "    }\n",
       "\n",
       "    .dataframe tbody tr th {\n",
       "        vertical-align: top;\n",
       "    }\n",
       "\n",
       "    .dataframe thead th {\n",
       "        text-align: right;\n",
       "    }\n",
       "</style>\n",
       "<table border=\"1\" class=\"dataframe\">\n",
       "  <thead>\n",
       "    <tr style=\"text-align: right;\">\n",
       "      <th></th>\n",
       "      <th>type</th>\n",
       "      <th>posts</th>\n",
       "    </tr>\n",
       "  </thead>\n",
       "  <tbody>\n",
       "    <tr>\n",
       "      <th>0</th>\n",
       "      <td>Libra</td>\n",
       "      <td>career is a...</td>\n",
       "    </tr>\n",
       "    <tr>\n",
       "      <th>1</th>\n",
       "      <td>Libra</td>\n",
       "      <td>ur second eclipse of 2021 will be a  solar...</td>\n",
       "    </tr>\n",
       "    <tr>\n",
       "      <th>2</th>\n",
       "      <td>Libra</td>\n",
       "      <td>hank you             ...</td>\n",
       "    </tr>\n",
       "    <tr>\n",
       "      <th>3</th>\n",
       "      <td>Libra</td>\n",
       "      <td>removed     rem...</td>\n",
       "    </tr>\n",
       "    <tr>\n",
       "      <th>4</th>\n",
       "      <td>Scorpio</td>\n",
       "      <td>upreme  ourt will not allow same sex marriage...</td>\n",
       "    </tr>\n",
       "  </tbody>\n",
       "</table>\n",
       "</div>"
      ],
      "text/plain": [
       "      type                                              posts\n",
       "0    Libra                                     career is a...\n",
       "1    Libra      ur second eclipse of 2021 will be a  solar...\n",
       "2    Libra                           hank you             ...\n",
       "3    Libra                                 removed     rem...\n",
       "4  Scorpio   upreme  ourt will not allow same sex marriage..."
      ]
     },
     "execution_count": 69,
     "metadata": {},
     "output_type": "execute_result"
    }
   ],
   "source": [
    "# 전처리 완료\n",
    "data.head(5)"
   ]
  },
  {
   "cell_type": "markdown",
   "id": "b69eb8ea",
   "metadata": {},
   "source": [
    "### 벡터화 진행"
   ]
  },
  {
   "cell_type": "code",
   "execution_count": 70,
   "id": "ec3d5a37",
   "metadata": {},
   "outputs": [],
   "source": [
    "class Lemmatizer(object):\n",
    "    def __init__(self):\n",
    "        self.lemmatizer = WordNetLemmatizer()\n",
    "    def __call__(self, sentence): # 단어가 3개의 알파벳 이상으로 이루어졌을 때에만 토큰(피처)로 활용하도록!\n",
    "        return [self.lemmatizer.lemmatize(word) for word in sentence.split() if len(word)>2]"
   ]
  },
  {
   "cell_type": "code",
   "execution_count": 71,
   "id": "7cccd137",
   "metadata": {},
   "outputs": [
    {
     "name": "stderr",
     "output_type": "stream",
     "text": [
      "[nltk_data] Downloading package omw-1.4 to\n",
      "[nltk_data]     C:\\Users\\guddk\\AppData\\Roaming\\nltk_data...\n",
      "[nltk_data]   Package omw-1.4 is already up-to-date!\n"
     ]
    },
    {
     "data": {
      "text/plain": [
       "True"
      ]
     },
     "execution_count": 71,
     "metadata": {},
     "output_type": "execute_result"
    }
   ],
   "source": [
    "#import nltk\n",
    "#nltk.download('wordnet')\n",
    "nltk.download('omw-1.4')"
   ]
  },
  {
   "cell_type": "code",
   "execution_count": 74,
   "id": "db9728ae",
   "metadata": {},
   "outputs": [],
   "source": [
    "train_data,test_data=train_test_split(data,test_size=0.25,random_state=42,stratify=data.type)"
   ]
  },
  {
   "cell_type": "code",
   "execution_count": 75,
   "id": "6b10c744",
   "metadata": {},
   "outputs": [
    {
     "data": {
      "text/html": [
       "<style>#sk-container-id-2 {color: black;background-color: white;}#sk-container-id-2 pre{padding: 0;}#sk-container-id-2 div.sk-toggleable {background-color: white;}#sk-container-id-2 label.sk-toggleable__label {cursor: pointer;display: block;width: 100%;margin-bottom: 0;padding: 0.3em;box-sizing: border-box;text-align: center;}#sk-container-id-2 label.sk-toggleable__label-arrow:before {content: \"▸\";float: left;margin-right: 0.25em;color: #696969;}#sk-container-id-2 label.sk-toggleable__label-arrow:hover:before {color: black;}#sk-container-id-2 div.sk-estimator:hover label.sk-toggleable__label-arrow:before {color: black;}#sk-container-id-2 div.sk-toggleable__content {max-height: 0;max-width: 0;overflow: hidden;text-align: left;background-color: #f0f8ff;}#sk-container-id-2 div.sk-toggleable__content pre {margin: 0.2em;color: black;border-radius: 0.25em;background-color: #f0f8ff;}#sk-container-id-2 input.sk-toggleable__control:checked~div.sk-toggleable__content {max-height: 200px;max-width: 100%;overflow: auto;}#sk-container-id-2 input.sk-toggleable__control:checked~label.sk-toggleable__label-arrow:before {content: \"▾\";}#sk-container-id-2 div.sk-estimator input.sk-toggleable__control:checked~label.sk-toggleable__label {background-color: #d4ebff;}#sk-container-id-2 div.sk-label input.sk-toggleable__control:checked~label.sk-toggleable__label {background-color: #d4ebff;}#sk-container-id-2 input.sk-hidden--visually {border: 0;clip: rect(1px 1px 1px 1px);clip: rect(1px, 1px, 1px, 1px);height: 1px;margin: -1px;overflow: hidden;padding: 0;position: absolute;width: 1px;}#sk-container-id-2 div.sk-estimator {font-family: monospace;background-color: #f0f8ff;border: 1px dotted black;border-radius: 0.25em;box-sizing: border-box;margin-bottom: 0.5em;}#sk-container-id-2 div.sk-estimator:hover {background-color: #d4ebff;}#sk-container-id-2 div.sk-parallel-item::after {content: \"\";width: 100%;border-bottom: 1px solid gray;flex-grow: 1;}#sk-container-id-2 div.sk-label:hover label.sk-toggleable__label {background-color: #d4ebff;}#sk-container-id-2 div.sk-serial::before {content: \"\";position: absolute;border-left: 1px solid gray;box-sizing: border-box;top: 0;bottom: 0;left: 50%;z-index: 0;}#sk-container-id-2 div.sk-serial {display: flex;flex-direction: column;align-items: center;background-color: white;padding-right: 0.2em;padding-left: 0.2em;position: relative;}#sk-container-id-2 div.sk-item {position: relative;z-index: 1;}#sk-container-id-2 div.sk-parallel {display: flex;align-items: stretch;justify-content: center;background-color: white;position: relative;}#sk-container-id-2 div.sk-item::before, #sk-container-id-2 div.sk-parallel-item::before {content: \"\";position: absolute;border-left: 1px solid gray;box-sizing: border-box;top: 0;bottom: 0;left: 50%;z-index: -1;}#sk-container-id-2 div.sk-parallel-item {display: flex;flex-direction: column;z-index: 1;position: relative;background-color: white;}#sk-container-id-2 div.sk-parallel-item:first-child::after {align-self: flex-end;width: 50%;}#sk-container-id-2 div.sk-parallel-item:last-child::after {align-self: flex-start;width: 50%;}#sk-container-id-2 div.sk-parallel-item:only-child::after {width: 0;}#sk-container-id-2 div.sk-dashed-wrapped {border: 1px dashed gray;margin: 0 0.4em 0.5em 0.4em;box-sizing: border-box;padding-bottom: 0.4em;background-color: white;}#sk-container-id-2 div.sk-label label {font-family: monospace;font-weight: bold;display: inline-block;line-height: 1.2em;}#sk-container-id-2 div.sk-label-container {text-align: center;}#sk-container-id-2 div.sk-container {/* jupyter's `normalize.less` sets `[hidden] { display: none; }` but bootstrap.min.css set `[hidden] { display: none !important; }` so we also need the `!important` here to be able to override the default hidden behavior on the sphinx rendered scikit-learn.org. See: https://github.com/scikit-learn/scikit-learn/issues/21755 */display: inline-block !important;position: relative;}#sk-container-id-2 div.sk-text-repr-fallback {display: none;}</style><div id=\"sk-container-id-2\" class=\"sk-top-container\"><div class=\"sk-text-repr-fallback\"><pre>TfidfVectorizer(max_features=3000, stop_words=&#x27;english&#x27;,\n",
       "                tokenizer=&lt;__main__.Lemmatizer object at 0x000002C54D3B3370&gt;)</pre><b>In a Jupyter environment, please rerun this cell to show the HTML representation or trust the notebook. <br />On GitHub, the HTML representation is unable to render, please try loading this page with nbviewer.org.</b></div><div class=\"sk-container\" hidden><div class=\"sk-item\"><div class=\"sk-estimator sk-toggleable\"><input class=\"sk-toggleable__control sk-hidden--visually\" id=\"sk-estimator-id-2\" type=\"checkbox\" checked><label for=\"sk-estimator-id-2\" class=\"sk-toggleable__label sk-toggleable__label-arrow\">TfidfVectorizer</label><div class=\"sk-toggleable__content\"><pre>TfidfVectorizer(max_features=3000, stop_words=&#x27;english&#x27;,\n",
       "                tokenizer=&lt;__main__.Lemmatizer object at 0x000002C54D3B3370&gt;)</pre></div></div></div></div></div>"
      ],
      "text/plain": [
       "TfidfVectorizer(max_features=3000, stop_words='english',\n",
       "                tokenizer=<__main__.Lemmatizer object at 0x000002C54D3B3370>)"
      ]
     },
     "execution_count": 75,
     "metadata": {},
     "output_type": "execute_result"
    }
   ],
   "source": [
    "vectorizer=TfidfVectorizer(max_features=3000,stop_words='english',tokenizer=Lemmatizer())\n",
    "vectorizer.fit(train_data.posts)"
   ]
  },
  {
   "cell_type": "code",
   "execution_count": 77,
   "id": "91869565",
   "metadata": {},
   "outputs": [],
   "source": [
    "import pickle\n",
    "filename = 'model_xgb_final'\n",
    "# 모델 불러오기\n",
    "model_xgb_iqr = pickle.load(open(filename, 'rb'))"
   ]
  },
  {
   "cell_type": "code",
   "execution_count": 80,
   "id": "b4e46b65",
   "metadata": {},
   "outputs": [],
   "source": [
    "zodiac_post = vectorizer.transform(data.posts).toarray()"
   ]
  },
  {
   "cell_type": "code",
   "execution_count": 81,
   "id": "e472e9e2",
   "metadata": {},
   "outputs": [],
   "source": [
    "y_pred2 = model_xgb_iqr.predict(zodiac_post) "
   ]
  },
  {
   "cell_type": "code",
   "execution_count": 82,
   "id": "21fb80fb",
   "metadata": {},
   "outputs": [
    {
     "data": {
      "text/plain": [
       "array([[0.        , 0.        , 0.        , ..., 0.        , 0.06025548,\n",
       "        0.        ],\n",
       "       [0.        , 0.        , 0.        , ..., 0.        , 0.        ,\n",
       "        0.        ],\n",
       "       [0.        , 0.        , 0.        , ..., 0.        , 0.        ,\n",
       "        0.        ],\n",
       "       ...,\n",
       "       [0.        , 0.04425896, 0.        , ..., 0.        , 0.        ,\n",
       "        0.        ],\n",
       "       [0.        , 0.        , 0.        , ..., 0.        , 0.        ,\n",
       "        0.        ],\n",
       "       [0.        , 0.        , 0.        , ..., 0.        , 0.        ,\n",
       "        0.        ]])"
      ]
     },
     "execution_count": 82,
     "metadata": {},
     "output_type": "execute_result"
    }
   ],
   "source": [
    "zodiac_post"
   ]
  },
  {
   "cell_type": "code",
   "execution_count": 83,
   "id": "39a0edb5",
   "metadata": {},
   "outputs": [
    {
     "data": {
      "text/plain": [
       "array([10, 11,  9, ..., 10, 15, 15])"
      ]
     },
     "execution_count": 83,
     "metadata": {},
     "output_type": "execute_result"
    }
   ],
   "source": [
    "y_pred2"
   ]
  },
  {
   "cell_type": "code",
   "execution_count": 84,
   "id": "6b665447",
   "metadata": {},
   "outputs": [
    {
     "data": {
      "text/html": [
       "<div>\n",
       "<style scoped>\n",
       "    .dataframe tbody tr th:only-of-type {\n",
       "        vertical-align: middle;\n",
       "    }\n",
       "\n",
       "    .dataframe tbody tr th {\n",
       "        vertical-align: top;\n",
       "    }\n",
       "\n",
       "    .dataframe thead th {\n",
       "        text-align: right;\n",
       "    }\n",
       "</style>\n",
       "<table border=\"1\" class=\"dataframe\">\n",
       "  <thead>\n",
       "    <tr style=\"text-align: right;\">\n",
       "      <th></th>\n",
       "      <th>type</th>\n",
       "      <th>posts</th>\n",
       "    </tr>\n",
       "  </thead>\n",
       "  <tbody>\n",
       "    <tr>\n",
       "      <th>0</th>\n",
       "      <td>Libra</td>\n",
       "      <td>career is a...</td>\n",
       "    </tr>\n",
       "    <tr>\n",
       "      <th>1</th>\n",
       "      <td>Libra</td>\n",
       "      <td>ur second eclipse of 2021 will be a  solar...</td>\n",
       "    </tr>\n",
       "    <tr>\n",
       "      <th>2</th>\n",
       "      <td>Libra</td>\n",
       "      <td>hank you             ...</td>\n",
       "    </tr>\n",
       "    <tr>\n",
       "      <th>3</th>\n",
       "      <td>Libra</td>\n",
       "      <td>removed     rem...</td>\n",
       "    </tr>\n",
       "    <tr>\n",
       "      <th>4</th>\n",
       "      <td>Scorpio</td>\n",
       "      <td>upreme  ourt will not allow same sex marriage...</td>\n",
       "    </tr>\n",
       "    <tr>\n",
       "      <th>...</th>\n",
       "      <td>...</td>\n",
       "      <td>...</td>\n",
       "    </tr>\n",
       "    <tr>\n",
       "      <th>1532</th>\n",
       "      <td>Virgo</td>\n",
       "      <td>hank you        hank you so much        hank ...</td>\n",
       "    </tr>\n",
       "    <tr>\n",
       "      <th>1533</th>\n",
       "      <td>Virgo</td>\n",
       "      <td></td>\n",
       "    </tr>\n",
       "    <tr>\n",
       "      <th>1534</th>\n",
       "      <td>Virgo</td>\n",
       "      <td>appiness and love      he will connect wit...</td>\n",
       "    </tr>\n",
       "    <tr>\n",
       "      <th>1535</th>\n",
       "      <td>Virgo</td>\n",
       "      <td>9 00 a carton in  ew  ampshire      didn t wa...</td>\n",
       "    </tr>\n",
       "    <tr>\n",
       "      <th>1536</th>\n",
       "      <td>Virgo</td>\n",
       "      <td>hank you      t won t say  nly ans   t ...</td>\n",
       "    </tr>\n",
       "  </tbody>\n",
       "</table>\n",
       "<p>1537 rows × 2 columns</p>\n",
       "</div>"
      ],
      "text/plain": [
       "         type                                              posts\n",
       "0       Libra                                     career is a...\n",
       "1       Libra      ur second eclipse of 2021 will be a  solar...\n",
       "2       Libra                           hank you             ...\n",
       "3       Libra                                 removed     rem...\n",
       "4     Scorpio   upreme  ourt will not allow same sex marriage...\n",
       "...       ...                                                ...\n",
       "1532    Virgo   hank you        hank you so much        hank ...\n",
       "1533    Virgo                                                   \n",
       "1534    Virgo      appiness and love      he will connect wit...\n",
       "1535    Virgo   9 00 a carton in  ew  ampshire      didn t wa...\n",
       "1536    Virgo         hank you      t won t say  nly ans   t ...\n",
       "\n",
       "[1537 rows x 2 columns]"
      ]
     },
     "execution_count": 84,
     "metadata": {},
     "output_type": "execute_result"
    }
   ],
   "source": [
    "data"
   ]
  },
  {
   "cell_type": "code",
   "execution_count": 85,
   "id": "e8762b0a",
   "metadata": {},
   "outputs": [],
   "source": [
    "df= data.copy()"
   ]
  },
  {
   "cell_type": "code",
   "execution_count": 86,
   "id": "5604c5e5",
   "metadata": {},
   "outputs": [],
   "source": [
    "df = pd.concat([df, pd.DataFrame({'mbti_pred':y_pred2})], axis=1)"
   ]
  },
  {
   "cell_type": "code",
   "execution_count": 87,
   "id": "b040a6bb",
   "metadata": {},
   "outputs": [],
   "source": [
    "mbti = [] #리스트 생성\n",
    "for row in df['mbti_pred']:\n",
    "    if row == 0:\n",
    "        mbti.append('enfp')\n",
    "    elif row == 1:\n",
    "        mbti.append('enfj')\n",
    "    elif row == 2:\n",
    "        mbti.append('esfp')\n",
    "    elif row == 3:\n",
    "        mbti.append('esfj')\n",
    "    elif row == 4:\n",
    "        mbti.append('entp')\n",
    "    elif row == 5:\n",
    "        mbti.append('entj')\n",
    "    elif row == 6:\n",
    "        mbti.append('estp')\n",
    "    elif row == 7:\n",
    "        mbti.append('estj')\n",
    "    elif row == 8:\n",
    "        mbti.append('infp')\n",
    "    elif row == 9:\n",
    "        mbti.append('infj')\n",
    "    elif row == 10:\n",
    "        mbti.append('isfp')\n",
    "    elif row == 11:\n",
    "        mbti.append('isfj')\n",
    "    elif row == 12:\n",
    "        mbti.append('intp')\n",
    "    elif row == 13:\n",
    "        mbti.append('intj')\n",
    "    elif row == 14:\n",
    "        mbti.append('istp')\n",
    "    elif row == 15:\n",
    "        mbti.append('istj')\n",
    "        \n",
    "        \n",
    "df['mbti'] = mbti #grade열에 순차대로 원소를 대입"
   ]
  },
  {
   "cell_type": "code",
   "execution_count": 88,
   "id": "c7730992",
   "metadata": {},
   "outputs": [
    {
     "data": {
      "text/html": [
       "<div>\n",
       "<style scoped>\n",
       "    .dataframe tbody tr th:only-of-type {\n",
       "        vertical-align: middle;\n",
       "    }\n",
       "\n",
       "    .dataframe tbody tr th {\n",
       "        vertical-align: top;\n",
       "    }\n",
       "\n",
       "    .dataframe thead th {\n",
       "        text-align: right;\n",
       "    }\n",
       "</style>\n",
       "<table border=\"1\" class=\"dataframe\">\n",
       "  <thead>\n",
       "    <tr style=\"text-align: right;\">\n",
       "      <th></th>\n",
       "      <th>type</th>\n",
       "      <th>posts</th>\n",
       "      <th>mbti_pred</th>\n",
       "      <th>mbti</th>\n",
       "    </tr>\n",
       "  </thead>\n",
       "  <tbody>\n",
       "    <tr>\n",
       "      <th>0</th>\n",
       "      <td>Libra</td>\n",
       "      <td>career is a...</td>\n",
       "      <td>10</td>\n",
       "      <td>isfp</td>\n",
       "    </tr>\n",
       "    <tr>\n",
       "      <th>1</th>\n",
       "      <td>Libra</td>\n",
       "      <td>ur second eclipse of 2021 will be a  solar...</td>\n",
       "      <td>11</td>\n",
       "      <td>isfj</td>\n",
       "    </tr>\n",
       "    <tr>\n",
       "      <th>2</th>\n",
       "      <td>Libra</td>\n",
       "      <td>hank you             ...</td>\n",
       "      <td>9</td>\n",
       "      <td>infj</td>\n",
       "    </tr>\n",
       "    <tr>\n",
       "      <th>3</th>\n",
       "      <td>Libra</td>\n",
       "      <td>removed     rem...</td>\n",
       "      <td>9</td>\n",
       "      <td>infj</td>\n",
       "    </tr>\n",
       "    <tr>\n",
       "      <th>4</th>\n",
       "      <td>Scorpio</td>\n",
       "      <td>upreme  ourt will not allow same sex marriage...</td>\n",
       "      <td>9</td>\n",
       "      <td>infj</td>\n",
       "    </tr>\n",
       "    <tr>\n",
       "      <th>...</th>\n",
       "      <td>...</td>\n",
       "      <td>...</td>\n",
       "      <td>...</td>\n",
       "      <td>...</td>\n",
       "    </tr>\n",
       "    <tr>\n",
       "      <th>1532</th>\n",
       "      <td>Virgo</td>\n",
       "      <td>hank you        hank you so much        hank ...</td>\n",
       "      <td>9</td>\n",
       "      <td>infj</td>\n",
       "    </tr>\n",
       "    <tr>\n",
       "      <th>1533</th>\n",
       "      <td>Virgo</td>\n",
       "      <td></td>\n",
       "      <td>9</td>\n",
       "      <td>infj</td>\n",
       "    </tr>\n",
       "    <tr>\n",
       "      <th>1534</th>\n",
       "      <td>Virgo</td>\n",
       "      <td>appiness and love      he will connect wit...</td>\n",
       "      <td>10</td>\n",
       "      <td>isfp</td>\n",
       "    </tr>\n",
       "    <tr>\n",
       "      <th>1535</th>\n",
       "      <td>Virgo</td>\n",
       "      <td>9 00 a carton in  ew  ampshire      didn t wa...</td>\n",
       "      <td>15</td>\n",
       "      <td>istj</td>\n",
       "    </tr>\n",
       "    <tr>\n",
       "      <th>1536</th>\n",
       "      <td>Virgo</td>\n",
       "      <td>hank you      t won t say  nly ans   t ...</td>\n",
       "      <td>15</td>\n",
       "      <td>istj</td>\n",
       "    </tr>\n",
       "  </tbody>\n",
       "</table>\n",
       "<p>1537 rows × 4 columns</p>\n",
       "</div>"
      ],
      "text/plain": [
       "         type                                              posts  mbti_pred  \\\n",
       "0       Libra                                     career is a...         10   \n",
       "1       Libra      ur second eclipse of 2021 will be a  solar...         11   \n",
       "2       Libra                           hank you             ...          9   \n",
       "3       Libra                                 removed     rem...          9   \n",
       "4     Scorpio   upreme  ourt will not allow same sex marriage...          9   \n",
       "...       ...                                                ...        ...   \n",
       "1532    Virgo   hank you        hank you so much        hank ...          9   \n",
       "1533    Virgo                                                             9   \n",
       "1534    Virgo      appiness and love      he will connect wit...         10   \n",
       "1535    Virgo   9 00 a carton in  ew  ampshire      didn t wa...         15   \n",
       "1536    Virgo         hank you      t won t say  nly ans   t ...         15   \n",
       "\n",
       "      mbti  \n",
       "0     isfp  \n",
       "1     isfj  \n",
       "2     infj  \n",
       "3     infj  \n",
       "4     infj  \n",
       "...    ...  \n",
       "1532  infj  \n",
       "1533  infj  \n",
       "1534  isfp  \n",
       "1535  istj  \n",
       "1536  istj  \n",
       "\n",
       "[1537 rows x 4 columns]"
      ]
     },
     "execution_count": 88,
     "metadata": {},
     "output_type": "execute_result"
    }
   ],
   "source": [
    "df"
   ]
  },
  {
   "cell_type": "code",
   "execution_count": 89,
   "id": "9466c9c3",
   "metadata": {},
   "outputs": [],
   "source": [
    "df.to_csv('zodiac_mbti.csv')"
   ]
  },
  {
   "cell_type": "code",
   "execution_count": null,
   "id": "83b92e7a",
   "metadata": {},
   "outputs": [],
   "source": []
  },
  {
   "cell_type": "code",
   "execution_count": null,
   "id": "48f3b6a7",
   "metadata": {},
   "outputs": [],
   "source": []
  }
 ],
 "metadata": {
  "kernelspec": {
   "display_name": "Python 3 (ipykernel)",
   "language": "python",
   "name": "python3"
  },
  "language_info": {
   "codemirror_mode": {
    "name": "ipython",
    "version": 3
   },
   "file_extension": ".py",
   "mimetype": "text/x-python",
   "name": "python",
   "nbconvert_exporter": "python",
   "pygments_lexer": "ipython3",
   "version": "3.10.9"
  }
 },
 "nbformat": 4,
 "nbformat_minor": 5
}
