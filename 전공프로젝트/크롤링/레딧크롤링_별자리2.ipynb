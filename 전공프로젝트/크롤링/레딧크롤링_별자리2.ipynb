{
 "cells": [
  {
   "cell_type": "markdown",
   "id": "4e196947",
   "metadata": {},
   "source": [
    "### 별자리 \n",
    "- 양자리 · 황소자리 · 쌍둥이자리 · 게자리 · 사자자리 · 처녀자리"
   ]
  },
  {
   "cell_type": "code",
   "execution_count": 27,
   "id": "a305da8a",
   "metadata": {},
   "outputs": [],
   "source": [
    "import praw \n",
    "reddit = praw.Reddit(client_id=\"eJ-h0080ljmj-J4fu3GIAg\",\n",
    "                    client_secret=\"4u1DT2XA-tKiWNk22Hy6I8mWfR9BaQ\",\n",
    "                    user_agent=\"multicampus\")"
   ]
  },
  {
   "cell_type": "code",
   "execution_count": 28,
   "id": "ae628ddd",
   "metadata": {},
   "outputs": [],
   "source": [
    "import requests"
   ]
  },
  {
   "cell_type": "code",
   "execution_count": 76,
   "id": "dabdc54f",
   "metadata": {},
   "outputs": [],
   "source": [
    "subreddit = 'AriesTheRam'\n",
    "limit = 100\n",
    "timeframe = 'all'\n",
    "listing = 'best'\n",
    "\n",
    "def get_posters(r):\n",
    "    #서브레딧-포스트(베스트 100개에 대한)에 대한 작성자명 가져오기.\n",
    "    # 1000개 행!(맨 앞2개, best)\n",
    "    authors = []\n",
    "    for author in r['data']['children']:\n",
    "        x = author['data']['author']\n",
    "        authors.append(x)\n",
    "    return authors"
   ]
  },
  {
   "cell_type": "code",
   "execution_count": 77,
   "id": "a41d6544",
   "metadata": {},
   "outputs": [],
   "source": [
    "import requests\n",
    "subreddit = 'AriesTheRam'\n",
    "limit = 100\n",
    "timeframe = 'month'\n",
    "listing = 'best'\n",
    "\n",
    "# 작가 정보를 얻어오기 위한 json 객체 호출\n",
    "def get_redd(subreddit, listing, limit, timeframe):\n",
    "    try:\n",
    "        base_url = f'https://www.reddit.com/r/{subreddit}/{listing}.json?limit={limit}&t={timeframe}'\n",
    "        request = requests.get(base_url, headers = {'User-agent':'yourbot'})\n",
    "    except:\n",
    "        print('Error')\n",
    "    return request.json()"
   ]
  },
  {
   "cell_type": "code",
   "execution_count": 78,
   "id": "5bc91c8e",
   "metadata": {},
   "outputs": [],
   "source": [
    "# 작가별 게시글을 가져오기 위한 json 객체 호출\n",
    "def get_reddit(subreddit, listing, limit, timeframe, author):\n",
    "    try:\n",
    "        base_url = f'https://www.reddit.com/r/{subreddit}/{listing}.json?limit={limit}&t={timeframe}&author={author}'\n",
    "        request = requests.get(base_url, headers = {'User-agent':'yourbot'})\n",
    "    except:\n",
    "        print('Error')\n",
    "    return request.json()"
   ]
  },
  {
   "cell_type": "code",
   "execution_count": 120,
   "id": "f1e2e270",
   "metadata": {},
   "outputs": [],
   "source": [
    "import pandas as pd\n",
    "\n",
    "zodiacs = ['AriesTheRam','Taurusgang','geminis','Cancerian','LeoAstrology','virgoseason']\n",
    "authors = []\n",
    "zodiac_type = []\n",
    "for zodiac in zodiacs:\n",
    "    limit = 100\n",
    "    timeframe = ['all', 'year', 'month', 'day']\n",
    "    listing = ['hot', 'top', 'controversial']\n",
    "    for time in timeframe :\n",
    "            try:\n",
    "                r = get_redd(zodiac, lit, limit, time)\n",
    "                # 위 get_redd로 가져온 객채로 mbti 별 베스트 글 작성자 100명 모집.\n",
    "                posters = get_posters(r)\n",
    "                for poster in posters :\n",
    "                    authors.append(poster)\n",
    "                    zodiac_type.append(zodiac)            \n",
    "            except:\n",
    "                pass"
   ]
  },
  {
   "cell_type": "code",
   "execution_count": 121,
   "id": "bf0c7b28",
   "metadata": {},
   "outputs": [],
   "source": [
    "df_raw = pd.DataFrame({'type':zodiac_type, 'authors':authors})"
   ]
  },
  {
   "cell_type": "code",
   "execution_count": 122,
   "id": "10db077b",
   "metadata": {},
   "outputs": [],
   "source": [
    "authors = df_raw.drop_duplicates()"
   ]
  },
  {
   "cell_type": "code",
   "execution_count": 123,
   "id": "50b45395",
   "metadata": {},
   "outputs": [],
   "source": [
    "stand = authors['authors'].value_counts() >= 2"
   ]
  },
  {
   "cell_type": "code",
   "execution_count": 124,
   "id": "ae8379a5",
   "metadata": {},
   "outputs": [
    {
     "data": {
      "text/plain": [
       "34"
      ]
     },
     "execution_count": 124,
     "metadata": {},
     "output_type": "execute_result"
    }
   ],
   "source": [
    "len(stand[stand==True].index)"
   ]
  },
  {
   "cell_type": "code",
   "execution_count": 125,
   "id": "62b99a65",
   "metadata": {},
   "outputs": [
    {
     "data": {
      "text/plain": [
       "Index(['[deleted]', 'Drdontcare78', 'Emailabuddy', 'scorpiodaughter',\n",
       "       'ryzilgadaffi', 'bisexualhamster21', 'sweetlikehoney981',\n",
       "       '10ofCups1977', 'tebapm', 'J0c381310', 'Queasy_Basis4269',\n",
       "       'ModernAstroGuru', '19neo91', '-light-life-', 'Candid_Salamander_64',\n",
       "       'SnooWoofers3368', 'isabel_infolive', 'AnbulaccOP',\n",
       "       'Pianist-thatsgross', 'lmntlstarreads', 'perplexedpineapple0',\n",
       "       'Rossykins96', 'IrateMars91', 'One-Ship-369', 'Acrobatic-Fox5883',\n",
       "       'BrucealCorleone', 'beautyaal', 'zodiac-season', 'Top-Mortgage-6358',\n",
       "       'sweetapplecrisp_97', 'ProfessionalLog5330', 'Rolland_Ice',\n",
       "       'AstronautFantastic67', 'LeyLinda'],\n",
       "      dtype='object')"
      ]
     },
     "execution_count": 125,
     "metadata": {},
     "output_type": "execute_result"
    }
   ],
   "source": [
    "stand[stand==True].index"
   ]
  },
  {
   "cell_type": "code",
   "execution_count": 126,
   "id": "1872dd94",
   "metadata": {},
   "outputs": [
    {
     "name": "stderr",
     "output_type": "stream",
     "text": [
      "C:\\Users\\guddk\\AppData\\Local\\Temp\\ipykernel_4508\\2610465850.py:3: SettingWithCopyWarning: \n",
      "A value is trying to be set on a copy of a slice from a DataFrame\n",
      "\n",
      "See the caveats in the documentation: https://pandas.pydata.org/pandas-docs/stable/user_guide/indexing.html#returning-a-view-versus-a-copy\n",
      "  authors.drop(delete.index, inplace=True)\n"
     ]
    }
   ],
   "source": [
    "for user in stand[stand==True].index:\n",
    "    delete = authors[authors['authors']==user]\n",
    "    authors.drop(delete.index, inplace=True)"
   ]
  },
  {
   "cell_type": "code",
   "execution_count": 127,
   "id": "4455b382",
   "metadata": {},
   "outputs": [
    {
     "data": {
      "text/html": [
       "<div>\n",
       "<style scoped>\n",
       "    .dataframe tbody tr th:only-of-type {\n",
       "        vertical-align: middle;\n",
       "    }\n",
       "\n",
       "    .dataframe tbody tr th {\n",
       "        vertical-align: top;\n",
       "    }\n",
       "\n",
       "    .dataframe thead th {\n",
       "        text-align: right;\n",
       "    }\n",
       "</style>\n",
       "<table border=\"1\" class=\"dataframe\">\n",
       "  <thead>\n",
       "    <tr style=\"text-align: right;\">\n",
       "      <th></th>\n",
       "      <th>type</th>\n",
       "      <th>authors</th>\n",
       "    </tr>\n",
       "  </thead>\n",
       "  <tbody>\n",
       "    <tr>\n",
       "      <th>0</th>\n",
       "      <td>AriesTheRam</td>\n",
       "      <td>dafri123</td>\n",
       "    </tr>\n",
       "    <tr>\n",
       "      <th>2</th>\n",
       "      <td>AriesTheRam</td>\n",
       "      <td>ibullyaznidentity</td>\n",
       "    </tr>\n",
       "    <tr>\n",
       "      <th>3</th>\n",
       "      <td>AriesTheRam</td>\n",
       "      <td>Phialavida</td>\n",
       "    </tr>\n",
       "    <tr>\n",
       "      <th>6</th>\n",
       "      <td>AriesTheRam</td>\n",
       "      <td>propensity2thrive</td>\n",
       "    </tr>\n",
       "    <tr>\n",
       "      <th>9</th>\n",
       "      <td>AriesTheRam</td>\n",
       "      <td>PelgerHuet_</td>\n",
       "    </tr>\n",
       "    <tr>\n",
       "      <th>...</th>\n",
       "      <td>...</td>\n",
       "      <td>...</td>\n",
       "    </tr>\n",
       "    <tr>\n",
       "      <th>1216</th>\n",
       "      <td>virgoseason</td>\n",
       "      <td>huffdin</td>\n",
       "    </tr>\n",
       "    <tr>\n",
       "      <th>1218</th>\n",
       "      <td>virgoseason</td>\n",
       "      <td>Love-M-designs</td>\n",
       "    </tr>\n",
       "    <tr>\n",
       "      <th>1219</th>\n",
       "      <td>virgoseason</td>\n",
       "      <td>Xingjinkai</td>\n",
       "    </tr>\n",
       "    <tr>\n",
       "      <th>1225</th>\n",
       "      <td>virgoseason</td>\n",
       "      <td>CasLyn817</td>\n",
       "    </tr>\n",
       "    <tr>\n",
       "      <th>1229</th>\n",
       "      <td>virgoseason</td>\n",
       "      <td>xotacaraa</td>\n",
       "    </tr>\n",
       "  </tbody>\n",
       "</table>\n",
       "<p>383 rows × 2 columns</p>\n",
       "</div>"
      ],
      "text/plain": [
       "             type            authors\n",
       "0     AriesTheRam           dafri123\n",
       "2     AriesTheRam  ibullyaznidentity\n",
       "3     AriesTheRam         Phialavida\n",
       "6     AriesTheRam  propensity2thrive\n",
       "9     AriesTheRam        PelgerHuet_\n",
       "...           ...                ...\n",
       "1216  virgoseason            huffdin\n",
       "1218  virgoseason     Love-M-designs\n",
       "1219  virgoseason         Xingjinkai\n",
       "1225  virgoseason          CasLyn817\n",
       "1229  virgoseason          xotacaraa\n",
       "\n",
       "[383 rows x 2 columns]"
      ]
     },
     "execution_count": 127,
     "metadata": {},
     "output_type": "execute_result"
    }
   ],
   "source": [
    "authors #중복제거된 authors 데이터세트."
   ]
  },
  {
   "cell_type": "code",
   "execution_count": 128,
   "id": "b23ea2ba",
   "metadata": {},
   "outputs": [],
   "source": [
    "def get_redd_body_byauth(username, limit, type):\n",
    "    try:\n",
    "        base_url = f'https://www.reddit.com/user/{username}/overview/.json?limit={limit}&type={type}&t=all'\n",
    "        request = requests.get(base_url, headers = {'User-agent':'yourbot'})\n",
    "    except:\n",
    "        print('Error')\n",
    "        \n",
    "    r= request.json()\n",
    "    bodies = []\n",
    "    \n",
    "    try:\n",
    "        for posts in r['data']['children']:\n",
    "            bodies.append(posts['data'])\n",
    "    except:\n",
    "        pass\n",
    "    \n",
    "    posts = []\n",
    "    for body in bodies:\n",
    "        if 'body' in body:\n",
    "            posts.append(body['body'])\n",
    "        else :\n",
    "            posts.append(body['selftext'])\n",
    "    post = '|||'.join(posts)\n",
    "    return post"
   ]
  },
  {
   "cell_type": "code",
   "execution_count": 129,
   "id": "25d9e7c8",
   "metadata": {},
   "outputs": [
    {
     "name": "stderr",
     "output_type": "stream",
     "text": [
      "iterate list: 100%|██████████████████████████████████████████████████████████████████| 383/383 [07:09<00:00,  1.12s/it]\n"
     ]
    }
   ],
   "source": [
    "import time\n",
    "from tqdm import tqdm\n",
    "import pandas as pd\n",
    "\n",
    "post_df = pd.DataFrame(columns=['author', 'post'])\n",
    "i=0\n",
    "for author in tqdm(authors['authors'], desc='iterate list') :\n",
    "    post = get_redd_body_byauth(author, 100, 'links')\n",
    "    df = pd.DataFrame({'author':author, 'posts':post}, index=[i])\n",
    "    i += i\n",
    "    post_df = pd.concat([post_df, df])"
   ]
  },
  {
   "cell_type": "code",
   "execution_count": 130,
   "id": "b50355fc",
   "metadata": {},
   "outputs": [
    {
     "data": {
      "text/html": [
       "<div>\n",
       "<style scoped>\n",
       "    .dataframe tbody tr th:only-of-type {\n",
       "        vertical-align: middle;\n",
       "    }\n",
       "\n",
       "    .dataframe tbody tr th {\n",
       "        vertical-align: top;\n",
       "    }\n",
       "\n",
       "    .dataframe thead th {\n",
       "        text-align: right;\n",
       "    }\n",
       "</style>\n",
       "<table border=\"1\" class=\"dataframe\">\n",
       "  <thead>\n",
       "    <tr style=\"text-align: right;\">\n",
       "      <th></th>\n",
       "      <th>author</th>\n",
       "      <th>post</th>\n",
       "      <th>posts</th>\n",
       "    </tr>\n",
       "  </thead>\n",
       "  <tbody>\n",
       "    <tr>\n",
       "      <th>0</th>\n",
       "      <td>dafri123</td>\n",
       "      <td>NaN</td>\n",
       "      <td>Better the truth. It hurts tho.  But yeah,  th...</td>\n",
       "    </tr>\n",
       "    <tr>\n",
       "      <th>0</th>\n",
       "      <td>ibullyaznidentity</td>\n",
       "      <td>NaN</td>\n",
       "      <td>*and girls|||Common Vivaldi W|||As a Sidemen f...</td>\n",
       "    </tr>\n",
       "    <tr>\n",
       "      <th>0</th>\n",
       "      <td>Phialavida</td>\n",
       "      <td>NaN</td>\n",
       "      <td>Love reading your poems and journaling it soun...</td>\n",
       "    </tr>\n",
       "    <tr>\n",
       "      <th>0</th>\n",
       "      <td>propensity2thrive</td>\n",
       "      <td>NaN</td>\n",
       "      <td>Dark brown!|||Thank you. I actually have begun...</td>\n",
       "    </tr>\n",
       "    <tr>\n",
       "      <th>0</th>\n",
       "      <td>PelgerHuet_</td>\n",
       "      <td>NaN</td>\n",
       "      <td>[removed]|||[removed]|||I don't want to invali...</td>\n",
       "    </tr>\n",
       "    <tr>\n",
       "      <th>...</th>\n",
       "      <td>...</td>\n",
       "      <td>...</td>\n",
       "      <td>...</td>\n",
       "    </tr>\n",
       "    <tr>\n",
       "      <th>0</th>\n",
       "      <td>huffdin</td>\n",
       "      <td>NaN</td>\n",
       "      <td>Thank you! :)|||Thank you so much! :)|||Thank ...</td>\n",
       "    </tr>\n",
       "    <tr>\n",
       "      <th>0</th>\n",
       "      <td>Love-M-designs</td>\n",
       "      <td>NaN</td>\n",
       "      <td>|||</td>\n",
       "    </tr>\n",
       "    <tr>\n",
       "      <th>0</th>\n",
       "      <td>Xingjinkai</td>\n",
       "      <td>NaN</td>\n",
       "      <td>|||Happiness and love 🥰|||She will connect wit...</td>\n",
       "    </tr>\n",
       "    <tr>\n",
       "      <th>0</th>\n",
       "      <td>CasLyn817</td>\n",
       "      <td>NaN</td>\n",
       "      <td>$9.00 a carton in New Hampshire.|||I didn’t wa...</td>\n",
       "    </tr>\n",
       "    <tr>\n",
       "      <th>0</th>\n",
       "      <td>xotacaraa</td>\n",
       "      <td>NaN</td>\n",
       "      <td>||||||Thank you!!|||It won’t say OnlyFans. It’...</td>\n",
       "    </tr>\n",
       "  </tbody>\n",
       "</table>\n",
       "<p>383 rows × 3 columns</p>\n",
       "</div>"
      ],
      "text/plain": [
       "               author post                                              posts\n",
       "0            dafri123  NaN  Better the truth. It hurts tho.  But yeah,  th...\n",
       "0   ibullyaznidentity  NaN  *and girls|||Common Vivaldi W|||As a Sidemen f...\n",
       "0          Phialavida  NaN  Love reading your poems and journaling it soun...\n",
       "0   propensity2thrive  NaN  Dark brown!|||Thank you. I actually have begun...\n",
       "0         PelgerHuet_  NaN  [removed]|||[removed]|||I don't want to invali...\n",
       "..                ...  ...                                                ...\n",
       "0             huffdin  NaN  Thank you! :)|||Thank you so much! :)|||Thank ...\n",
       "0      Love-M-designs  NaN                                                |||\n",
       "0          Xingjinkai  NaN  |||Happiness and love 🥰|||She will connect wit...\n",
       "0           CasLyn817  NaN  $9.00 a carton in New Hampshire.|||I didn’t wa...\n",
       "0           xotacaraa  NaN  ||||||Thank you!!|||It won’t say OnlyFans. It’...\n",
       "\n",
       "[383 rows x 3 columns]"
      ]
     },
     "execution_count": 130,
     "metadata": {},
     "output_type": "execute_result"
    }
   ],
   "source": [
    "post_df"
   ]
  },
  {
   "cell_type": "code",
   "execution_count": 131,
   "id": "34247f67",
   "metadata": {},
   "outputs": [],
   "source": [
    "post_df = post_df.rename(columns={'author':'authors'})"
   ]
  },
  {
   "cell_type": "code",
   "execution_count": 132,
   "id": "f8409454",
   "metadata": {},
   "outputs": [],
   "source": [
    "total_zodiac_raw = df_raw.merge(post_df, on='authors').drop_duplicates(ignore_index=True)"
   ]
  },
  {
   "cell_type": "code",
   "execution_count": 133,
   "id": "5298935b",
   "metadata": {},
   "outputs": [],
   "source": [
    "total_zodiac_raw.drop(columns=['post'], inplace=True)"
   ]
  },
  {
   "cell_type": "code",
   "execution_count": 134,
   "id": "e33ee557",
   "metadata": {},
   "outputs": [
    {
     "data": {
      "text/plain": [
       "geminis         112\n",
       "AriesTheRam     103\n",
       "Taurusgang       64\n",
       "virgoseason      42\n",
       "Cancerian        32\n",
       "LeoAstrology     30\n",
       "Name: type, dtype: int64"
      ]
     },
     "execution_count": 134,
     "metadata": {},
     "output_type": "execute_result"
    }
   ],
   "source": [
    "total_zodiac_raw['type'].value_counts()"
   ]
  },
  {
   "cell_type": "code",
   "execution_count": null,
   "id": "f0f29f5b",
   "metadata": {},
   "outputs": [],
   "source": []
  },
  {
   "cell_type": "code",
   "execution_count": null,
   "id": "6165dc7c",
   "metadata": {},
   "outputs": [],
   "source": []
  },
  {
   "cell_type": "code",
   "execution_count": 136,
   "id": "570324bf",
   "metadata": {},
   "outputs": [],
   "source": [
    "total_zodiac_raw.to_csv('zodiac2.csv')"
   ]
  }
 ],
 "metadata": {
  "kernelspec": {
   "display_name": "Python 3 (ipykernel)",
   "language": "python",
   "name": "python3"
  },
  "language_info": {
   "codemirror_mode": {
    "name": "ipython",
    "version": 3
   },
   "file_extension": ".py",
   "mimetype": "text/x-python",
   "name": "python",
   "nbconvert_exporter": "python",
   "pygments_lexer": "ipython3",
   "version": "3.10.9"
  }
 },
 "nbformat": 4,
 "nbformat_minor": 5
}
