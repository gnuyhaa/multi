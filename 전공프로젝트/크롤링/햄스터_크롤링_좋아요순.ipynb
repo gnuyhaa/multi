{
 "cells": [
  {
   "cell_type": "code",
   "execution_count": null,
   "id": "5762062f",
   "metadata": {},
   "outputs": [],
   "source": [
    "네이버 카페 게시글 : 햄사모 - 통합 자유게시판 \n",
    "작성자, 글내용  "
   ]
  },
  {
   "cell_type": "code",
   "execution_count": 1,
   "id": "918eaafe",
   "metadata": {},
   "outputs": [],
   "source": [
    "import selenium\n",
    "from selenium import webdriver\n",
    "import pandas as pd\n",
    "import numpy as np\n",
    "from bs4 import BeautifulSoup\n",
    "from selenium.webdriver.common.by import By # 셀레니움 4.0부터 포함된 객체(모듈)\n",
    "import time\n",
    "import math"
   ]
  },
  {
   "cell_type": "code",
   "execution_count": 3,
   "id": "75efb825",
   "metadata": {},
   "outputs": [
    {
     "ename": "WebDriverException",
     "evalue": "Message: 'chromedriver' executable needs to be in PATH. Please see https://sites.google.com/a/chromium.org/chromedriver/home\n",
     "output_type": "error",
     "traceback": [
      "\u001b[1;31m---------------------------------------------------------------------------\u001b[0m",
      "\u001b[1;31mFileNotFoundError\u001b[0m                         Traceback (most recent call last)",
      "File \u001b[1;32m~\\anaconda3\\lib\\site-packages\\selenium\\webdriver\\common\\service.py:72\u001b[0m, in \u001b[0;36mService.start\u001b[1;34m(self)\u001b[0m\n\u001b[0;32m     71\u001b[0m     cmd\u001b[38;5;241m.\u001b[39mextend(\u001b[38;5;28mself\u001b[39m\u001b[38;5;241m.\u001b[39mcommand_line_args())\n\u001b[1;32m---> 72\u001b[0m     \u001b[38;5;28mself\u001b[39m\u001b[38;5;241m.\u001b[39mprocess \u001b[38;5;241m=\u001b[39m \u001b[43msubprocess\u001b[49m\u001b[38;5;241;43m.\u001b[39;49m\u001b[43mPopen\u001b[49m\u001b[43m(\u001b[49m\u001b[43mcmd\u001b[49m\u001b[43m,\u001b[49m\u001b[43m \u001b[49m\u001b[43menv\u001b[49m\u001b[38;5;241;43m=\u001b[39;49m\u001b[38;5;28;43mself\u001b[39;49m\u001b[38;5;241;43m.\u001b[39;49m\u001b[43menv\u001b[49m\u001b[43m,\u001b[49m\n\u001b[0;32m     73\u001b[0m \u001b[43m                                    \u001b[49m\u001b[43mclose_fds\u001b[49m\u001b[38;5;241;43m=\u001b[39;49m\u001b[43mplatform\u001b[49m\u001b[38;5;241;43m.\u001b[39;49m\u001b[43msystem\u001b[49m\u001b[43m(\u001b[49m\u001b[43m)\u001b[49m\u001b[43m \u001b[49m\u001b[38;5;241;43m!=\u001b[39;49m\u001b[43m \u001b[49m\u001b[38;5;124;43m'\u001b[39;49m\u001b[38;5;124;43mWindows\u001b[39;49m\u001b[38;5;124;43m'\u001b[39;49m\u001b[43m,\u001b[49m\n\u001b[0;32m     74\u001b[0m \u001b[43m                                    \u001b[49m\u001b[43mstdout\u001b[49m\u001b[38;5;241;43m=\u001b[39;49m\u001b[38;5;28;43mself\u001b[39;49m\u001b[38;5;241;43m.\u001b[39;49m\u001b[43mlog_file\u001b[49m\u001b[43m,\u001b[49m\n\u001b[0;32m     75\u001b[0m \u001b[43m                                    \u001b[49m\u001b[43mstderr\u001b[49m\u001b[38;5;241;43m=\u001b[39;49m\u001b[38;5;28;43mself\u001b[39;49m\u001b[38;5;241;43m.\u001b[39;49m\u001b[43mlog_file\u001b[49m\u001b[43m,\u001b[49m\n\u001b[0;32m     76\u001b[0m \u001b[43m                                    \u001b[49m\u001b[43mstdin\u001b[49m\u001b[38;5;241;43m=\u001b[39;49m\u001b[43mPIPE\u001b[49m\u001b[43m)\u001b[49m\n\u001b[0;32m     77\u001b[0m \u001b[38;5;28;01mexcept\u001b[39;00m \u001b[38;5;167;01mTypeError\u001b[39;00m:\n",
      "File \u001b[1;32m~\\anaconda3\\lib\\subprocess.py:971\u001b[0m, in \u001b[0;36mPopen.__init__\u001b[1;34m(self, args, bufsize, executable, stdin, stdout, stderr, preexec_fn, close_fds, shell, cwd, env, universal_newlines, startupinfo, creationflags, restore_signals, start_new_session, pass_fds, user, group, extra_groups, encoding, errors, text, umask, pipesize)\u001b[0m\n\u001b[0;32m    968\u001b[0m             \u001b[38;5;28mself\u001b[39m\u001b[38;5;241m.\u001b[39mstderr \u001b[38;5;241m=\u001b[39m io\u001b[38;5;241m.\u001b[39mTextIOWrapper(\u001b[38;5;28mself\u001b[39m\u001b[38;5;241m.\u001b[39mstderr,\n\u001b[0;32m    969\u001b[0m                     encoding\u001b[38;5;241m=\u001b[39mencoding, errors\u001b[38;5;241m=\u001b[39merrors)\n\u001b[1;32m--> 971\u001b[0m     \u001b[38;5;28;43mself\u001b[39;49m\u001b[38;5;241;43m.\u001b[39;49m\u001b[43m_execute_child\u001b[49m\u001b[43m(\u001b[49m\u001b[43margs\u001b[49m\u001b[43m,\u001b[49m\u001b[43m \u001b[49m\u001b[43mexecutable\u001b[49m\u001b[43m,\u001b[49m\u001b[43m \u001b[49m\u001b[43mpreexec_fn\u001b[49m\u001b[43m,\u001b[49m\u001b[43m \u001b[49m\u001b[43mclose_fds\u001b[49m\u001b[43m,\u001b[49m\n\u001b[0;32m    972\u001b[0m \u001b[43m                        \u001b[49m\u001b[43mpass_fds\u001b[49m\u001b[43m,\u001b[49m\u001b[43m \u001b[49m\u001b[43mcwd\u001b[49m\u001b[43m,\u001b[49m\u001b[43m \u001b[49m\u001b[43menv\u001b[49m\u001b[43m,\u001b[49m\n\u001b[0;32m    973\u001b[0m \u001b[43m                        \u001b[49m\u001b[43mstartupinfo\u001b[49m\u001b[43m,\u001b[49m\u001b[43m \u001b[49m\u001b[43mcreationflags\u001b[49m\u001b[43m,\u001b[49m\u001b[43m \u001b[49m\u001b[43mshell\u001b[49m\u001b[43m,\u001b[49m\n\u001b[0;32m    974\u001b[0m \u001b[43m                        \u001b[49m\u001b[43mp2cread\u001b[49m\u001b[43m,\u001b[49m\u001b[43m \u001b[49m\u001b[43mp2cwrite\u001b[49m\u001b[43m,\u001b[49m\n\u001b[0;32m    975\u001b[0m \u001b[43m                        \u001b[49m\u001b[43mc2pread\u001b[49m\u001b[43m,\u001b[49m\u001b[43m \u001b[49m\u001b[43mc2pwrite\u001b[49m\u001b[43m,\u001b[49m\n\u001b[0;32m    976\u001b[0m \u001b[43m                        \u001b[49m\u001b[43merrread\u001b[49m\u001b[43m,\u001b[49m\u001b[43m \u001b[49m\u001b[43merrwrite\u001b[49m\u001b[43m,\u001b[49m\n\u001b[0;32m    977\u001b[0m \u001b[43m                        \u001b[49m\u001b[43mrestore_signals\u001b[49m\u001b[43m,\u001b[49m\n\u001b[0;32m    978\u001b[0m \u001b[43m                        \u001b[49m\u001b[43mgid\u001b[49m\u001b[43m,\u001b[49m\u001b[43m \u001b[49m\u001b[43mgids\u001b[49m\u001b[43m,\u001b[49m\u001b[43m \u001b[49m\u001b[43muid\u001b[49m\u001b[43m,\u001b[49m\u001b[43m \u001b[49m\u001b[43mumask\u001b[49m\u001b[43m,\u001b[49m\n\u001b[0;32m    979\u001b[0m \u001b[43m                        \u001b[49m\u001b[43mstart_new_session\u001b[49m\u001b[43m)\u001b[49m\n\u001b[0;32m    980\u001b[0m \u001b[38;5;28;01mexcept\u001b[39;00m:\n\u001b[0;32m    981\u001b[0m     \u001b[38;5;66;03m# Cleanup if the child failed starting.\u001b[39;00m\n",
      "File \u001b[1;32m~\\anaconda3\\lib\\subprocess.py:1440\u001b[0m, in \u001b[0;36mPopen._execute_child\u001b[1;34m(self, args, executable, preexec_fn, close_fds, pass_fds, cwd, env, startupinfo, creationflags, shell, p2cread, p2cwrite, c2pread, c2pwrite, errread, errwrite, unused_restore_signals, unused_gid, unused_gids, unused_uid, unused_umask, unused_start_new_session)\u001b[0m\n\u001b[0;32m   1439\u001b[0m \u001b[38;5;28;01mtry\u001b[39;00m:\n\u001b[1;32m-> 1440\u001b[0m     hp, ht, pid, tid \u001b[38;5;241m=\u001b[39m \u001b[43m_winapi\u001b[49m\u001b[38;5;241;43m.\u001b[39;49m\u001b[43mCreateProcess\u001b[49m\u001b[43m(\u001b[49m\u001b[43mexecutable\u001b[49m\u001b[43m,\u001b[49m\u001b[43m \u001b[49m\u001b[43margs\u001b[49m\u001b[43m,\u001b[49m\n\u001b[0;32m   1441\u001b[0m \u001b[43m                             \u001b[49m\u001b[38;5;66;43;03m# no special security\u001b[39;49;00m\n\u001b[0;32m   1442\u001b[0m \u001b[43m                             \u001b[49m\u001b[38;5;28;43;01mNone\u001b[39;49;00m\u001b[43m,\u001b[49m\u001b[43m \u001b[49m\u001b[38;5;28;43;01mNone\u001b[39;49;00m\u001b[43m,\u001b[49m\n\u001b[0;32m   1443\u001b[0m \u001b[43m                             \u001b[49m\u001b[38;5;28;43mint\u001b[39;49m\u001b[43m(\u001b[49m\u001b[38;5;129;43;01mnot\u001b[39;49;00m\u001b[43m \u001b[49m\u001b[43mclose_fds\u001b[49m\u001b[43m)\u001b[49m\u001b[43m,\u001b[49m\n\u001b[0;32m   1444\u001b[0m \u001b[43m                             \u001b[49m\u001b[43mcreationflags\u001b[49m\u001b[43m,\u001b[49m\n\u001b[0;32m   1445\u001b[0m \u001b[43m                             \u001b[49m\u001b[43menv\u001b[49m\u001b[43m,\u001b[49m\n\u001b[0;32m   1446\u001b[0m \u001b[43m                             \u001b[49m\u001b[43mcwd\u001b[49m\u001b[43m,\u001b[49m\n\u001b[0;32m   1447\u001b[0m \u001b[43m                             \u001b[49m\u001b[43mstartupinfo\u001b[49m\u001b[43m)\u001b[49m\n\u001b[0;32m   1448\u001b[0m \u001b[38;5;28;01mfinally\u001b[39;00m:\n\u001b[0;32m   1449\u001b[0m     \u001b[38;5;66;03m# Child is launched. Close the parent's copy of those pipe\u001b[39;00m\n\u001b[0;32m   1450\u001b[0m     \u001b[38;5;66;03m# handles that only the child should have open.  You need\u001b[39;00m\n\u001b[1;32m   (...)\u001b[0m\n\u001b[0;32m   1453\u001b[0m     \u001b[38;5;66;03m# pipe will not close when the child process exits and the\u001b[39;00m\n\u001b[0;32m   1454\u001b[0m     \u001b[38;5;66;03m# ReadFile will hang.\u001b[39;00m\n",
      "\u001b[1;31mFileNotFoundError\u001b[0m: [WinError 2] 지정된 파일을 찾을 수 없습니다",
      "\nDuring handling of the above exception, another exception occurred:\n",
      "\u001b[1;31mWebDriverException\u001b[0m                        Traceback (most recent call last)",
      "Cell \u001b[1;32mIn[3], line 1\u001b[0m\n\u001b[1;32m----> 1\u001b[0m driver \u001b[38;5;241m=\u001b[39m \u001b[43mwebdriver\u001b[49m\u001b[38;5;241;43m.\u001b[39;49m\u001b[43mChrome\u001b[49m\u001b[43m(\u001b[49m\u001b[38;5;124;43m'\u001b[39;49m\u001b[38;5;124;43m./driver/chromedriver\u001b[39;49m\u001b[38;5;124;43m'\u001b[39;49m\u001b[43m)\u001b[49m\n",
      "File \u001b[1;32m~\\anaconda3\\lib\\site-packages\\selenium\\webdriver\\chrome\\webdriver.py:73\u001b[0m, in \u001b[0;36mWebDriver.__init__\u001b[1;34m(self, executable_path, port, options, service_args, desired_capabilities, service_log_path, chrome_options, keep_alive)\u001b[0m\n\u001b[0;32m     66\u001b[0m         desired_capabilities\u001b[38;5;241m.\u001b[39mupdate(options\u001b[38;5;241m.\u001b[39mto_capabilities())\n\u001b[0;32m     68\u001b[0m \u001b[38;5;28mself\u001b[39m\u001b[38;5;241m.\u001b[39mservice \u001b[38;5;241m=\u001b[39m Service(\n\u001b[0;32m     69\u001b[0m     executable_path,\n\u001b[0;32m     70\u001b[0m     port\u001b[38;5;241m=\u001b[39mport,\n\u001b[0;32m     71\u001b[0m     service_args\u001b[38;5;241m=\u001b[39mservice_args,\n\u001b[0;32m     72\u001b[0m     log_path\u001b[38;5;241m=\u001b[39mservice_log_path)\n\u001b[1;32m---> 73\u001b[0m \u001b[38;5;28;43mself\u001b[39;49m\u001b[38;5;241;43m.\u001b[39;49m\u001b[43mservice\u001b[49m\u001b[38;5;241;43m.\u001b[39;49m\u001b[43mstart\u001b[49m\u001b[43m(\u001b[49m\u001b[43m)\u001b[49m\n\u001b[0;32m     75\u001b[0m \u001b[38;5;28;01mtry\u001b[39;00m:\n\u001b[0;32m     76\u001b[0m     RemoteWebDriver\u001b[38;5;241m.\u001b[39m\u001b[38;5;21m__init__\u001b[39m(\n\u001b[0;32m     77\u001b[0m         \u001b[38;5;28mself\u001b[39m,\n\u001b[0;32m     78\u001b[0m         command_executor\u001b[38;5;241m=\u001b[39mChromeRemoteConnection(\n\u001b[0;32m     79\u001b[0m             remote_server_addr\u001b[38;5;241m=\u001b[39m\u001b[38;5;28mself\u001b[39m\u001b[38;5;241m.\u001b[39mservice\u001b[38;5;241m.\u001b[39mservice_url,\n\u001b[0;32m     80\u001b[0m             keep_alive\u001b[38;5;241m=\u001b[39mkeep_alive),\n\u001b[0;32m     81\u001b[0m         desired_capabilities\u001b[38;5;241m=\u001b[39mdesired_capabilities)\n",
      "File \u001b[1;32m~\\anaconda3\\lib\\site-packages\\selenium\\webdriver\\common\\service.py:81\u001b[0m, in \u001b[0;36mService.start\u001b[1;34m(self)\u001b[0m\n\u001b[0;32m     79\u001b[0m \u001b[38;5;28;01mexcept\u001b[39;00m \u001b[38;5;167;01mOSError\u001b[39;00m \u001b[38;5;28;01mas\u001b[39;00m err:\n\u001b[0;32m     80\u001b[0m     \u001b[38;5;28;01mif\u001b[39;00m err\u001b[38;5;241m.\u001b[39merrno \u001b[38;5;241m==\u001b[39m errno\u001b[38;5;241m.\u001b[39mENOENT:\n\u001b[1;32m---> 81\u001b[0m         \u001b[38;5;28;01mraise\u001b[39;00m WebDriverException(\n\u001b[0;32m     82\u001b[0m             \u001b[38;5;124m\"\u001b[39m\u001b[38;5;124m'\u001b[39m\u001b[38;5;132;01m%s\u001b[39;00m\u001b[38;5;124m'\u001b[39m\u001b[38;5;124m executable needs to be in PATH. \u001b[39m\u001b[38;5;132;01m%s\u001b[39;00m\u001b[38;5;124m\"\u001b[39m \u001b[38;5;241m%\u001b[39m (\n\u001b[0;32m     83\u001b[0m                 os\u001b[38;5;241m.\u001b[39mpath\u001b[38;5;241m.\u001b[39mbasename(\u001b[38;5;28mself\u001b[39m\u001b[38;5;241m.\u001b[39mpath), \u001b[38;5;28mself\u001b[39m\u001b[38;5;241m.\u001b[39mstart_error_message)\n\u001b[0;32m     84\u001b[0m         )\n\u001b[0;32m     85\u001b[0m     \u001b[38;5;28;01melif\u001b[39;00m err\u001b[38;5;241m.\u001b[39merrno \u001b[38;5;241m==\u001b[39m errno\u001b[38;5;241m.\u001b[39mEACCES:\n\u001b[0;32m     86\u001b[0m         \u001b[38;5;28;01mraise\u001b[39;00m WebDriverException(\n\u001b[0;32m     87\u001b[0m             \u001b[38;5;124m\"\u001b[39m\u001b[38;5;124m'\u001b[39m\u001b[38;5;132;01m%s\u001b[39;00m\u001b[38;5;124m'\u001b[39m\u001b[38;5;124m executable may have wrong permissions. \u001b[39m\u001b[38;5;132;01m%s\u001b[39;00m\u001b[38;5;124m\"\u001b[39m \u001b[38;5;241m%\u001b[39m (\n\u001b[0;32m     88\u001b[0m                 os\u001b[38;5;241m.\u001b[39mpath\u001b[38;5;241m.\u001b[39mbasename(\u001b[38;5;28mself\u001b[39m\u001b[38;5;241m.\u001b[39mpath), \u001b[38;5;28mself\u001b[39m\u001b[38;5;241m.\u001b[39mstart_error_message)\n\u001b[0;32m     89\u001b[0m         )\n",
      "\u001b[1;31mWebDriverException\u001b[0m: Message: 'chromedriver' executable needs to be in PATH. Please see https://sites.google.com/a/chromium.org/chromedriver/home\n"
     ]
    }
   ],
   "source": [
    "driver = webdriver.Chrome('./driver/chromedriver')"
   ]
  },
  {
   "cell_type": "code",
   "execution_count": 3,
   "id": "29f603d6",
   "metadata": {},
   "outputs": [],
   "source": [
    "url = 'https://nid.naver.com/nidlogin.login'\n",
    "driver.get(url)"
   ]
  },
  {
   "cell_type": "code",
   "execution_count": 61,
   "id": "0c87bb97",
   "metadata": {},
   "outputs": [],
   "source": [
    "id_input = '본인아이디'\n",
    "pw_input = '본인비밀번호'"
   ]
  },
  {
   "cell_type": "code",
   "execution_count": 62,
   "id": "f2662b99",
   "metadata": {},
   "outputs": [],
   "source": [
    "driver.execute_script(\"document.getElementsByName('id')[0].value=\\'\"+id_input+\"\\'\")"
   ]
  },
  {
   "cell_type": "code",
   "execution_count": 63,
   "id": "283e5eed",
   "metadata": {},
   "outputs": [],
   "source": [
    "driver.execute_script(\"document.getElementsByName('pw')[0].value=\\'\"+pw_input+\"\\'\")"
   ]
  },
  {
   "cell_type": "code",
   "execution_count": 64,
   "id": "b9f55445",
   "metadata": {},
   "outputs": [],
   "source": [
    "# 로그인 버튼 클릭\n",
    "xpath='//*[@id=\"log.login\"]'\n",
    "#로그인 버튼을 찾아서 클릭\n",
    "driver.find_element(By.XPATH, xpath).click() # 셀레니움 클릭함수"
   ]
  },
  {
   "cell_type": "code",
   "execution_count": 125,
   "id": "68111724",
   "metadata": {},
   "outputs": [],
   "source": [
    "url = 'https://cafe.naver.com/myfriendspet'\n",
    "driver.get(url)"
   ]
  },
  {
   "cell_type": "code",
   "execution_count": 87,
   "id": "b75931a6",
   "metadata": {},
   "outputs": [],
   "source": [
    "ham_id = 12621653 # 카페 id\n",
    "menu_id = 141 # 통합 자유게시판 id "
   ]
  },
  {
   "cell_type": "code",
   "execution_count": 126,
   "id": "7fda9ea1",
   "metadata": {},
   "outputs": [],
   "source": [
    "# 통합 자유게시판 열기\n",
    "driver.get(f'{url}?iframe_url=/ArticleList.nhn%3Fsearch.clubid={ham_id}%26search.menuid={menu_id}%26userDisplay=50%26search.page=2')\n",
    "time.sleep(2)\n",
    "\n",
    "driver.switch_to.frame('cafe_main')"
   ]
  },
  {
   "cell_type": "code",
   "execution_count": 127,
   "id": "530d38b5",
   "metadata": {},
   "outputs": [
    {
     "data": {
      "text/plain": [
       "[<selenium.webdriver.remote.webelement.WebElement (session=\"0a6d7eed084bf68e4e0558edf30f83d7\", element=\"6693a06d-a547-4aa6-bf35-84aca6d2d0c3\")>,\n",
       " <selenium.webdriver.remote.webelement.WebElement (session=\"0a6d7eed084bf68e4e0558edf30f83d7\", element=\"12deeda6-6da1-40e1-bfb5-8c1abd6da894\")>,\n",
       " <selenium.webdriver.remote.webelement.WebElement (session=\"0a6d7eed084bf68e4e0558edf30f83d7\", element=\"c83fabd6-4769-49eb-aeaa-d030cdb2bfdf\")>,\n",
       " <selenium.webdriver.remote.webelement.WebElement (session=\"0a6d7eed084bf68e4e0558edf30f83d7\", element=\"6023edf5-7f06-4f74-8372-51de7ec28012\")>,\n",
       " <selenium.webdriver.remote.webelement.WebElement (session=\"0a6d7eed084bf68e4e0558edf30f83d7\", element=\"adccfd84-c210-477d-aaa1-2851d37cc408\")>,\n",
       " <selenium.webdriver.remote.webelement.WebElement (session=\"0a6d7eed084bf68e4e0558edf30f83d7\", element=\"826a7b93-b1a2-4720-8c0c-5837a66c86e8\")>,\n",
       " <selenium.webdriver.remote.webelement.WebElement (session=\"0a6d7eed084bf68e4e0558edf30f83d7\", element=\"4a724596-4829-426a-90e3-9de6fe30d400\")>,\n",
       " <selenium.webdriver.remote.webelement.WebElement (session=\"0a6d7eed084bf68e4e0558edf30f83d7\", element=\"6f192401-c930-459c-b6ff-589fd7655829\")>,\n",
       " <selenium.webdriver.remote.webelement.WebElement (session=\"0a6d7eed084bf68e4e0558edf30f83d7\", element=\"53990e60-afaa-4ec9-bcaa-a6cd6bbd8f43\")>,\n",
       " <selenium.webdriver.remote.webelement.WebElement (session=\"0a6d7eed084bf68e4e0558edf30f83d7\", element=\"0e86d8f9-0eab-4a02-b672-0392cfbfe2b5\")>,\n",
       " <selenium.webdriver.remote.webelement.WebElement (session=\"0a6d7eed084bf68e4e0558edf30f83d7\", element=\"7dd03ae7-6d60-41fa-abba-26c72d44c667\")>,\n",
       " <selenium.webdriver.remote.webelement.WebElement (session=\"0a6d7eed084bf68e4e0558edf30f83d7\", element=\"7331e63d-8dac-4d14-96c2-c621421504e7\")>,\n",
       " <selenium.webdriver.remote.webelement.WebElement (session=\"0a6d7eed084bf68e4e0558edf30f83d7\", element=\"72a73cec-331b-4bf1-8131-11c15d4237e0\")>,\n",
       " <selenium.webdriver.remote.webelement.WebElement (session=\"0a6d7eed084bf68e4e0558edf30f83d7\", element=\"76a79039-ec1e-46f7-8517-fba3e3e038d3\")>,\n",
       " <selenium.webdriver.remote.webelement.WebElement (session=\"0a6d7eed084bf68e4e0558edf30f83d7\", element=\"d37e0013-6e06-44b4-b845-6f3fbdb97a5b\")>]"
      ]
     },
     "execution_count": 127,
     "metadata": {},
     "output_type": "execute_result"
    }
   ],
   "source": [
    "nicks = '#main-area > div:nth-child(5) > table > tbody > tr > td.td_name > div > table > tbody > tr > td > a '\n",
    "elem = driver.find_elements(By.CSS_SELECTOR, nicks)\n",
    "elem"
   ]
  },
  {
   "cell_type": "code",
   "execution_count": 110,
   "id": "42177548",
   "metadata": {},
   "outputs": [
    {
     "data": {
      "text/plain": [
       "'밀금'"
      ]
     },
     "execution_count": 110,
     "metadata": {},
     "output_type": "execute_result"
    }
   ],
   "source": [
    "elem[3].text"
   ]
  },
  {
   "cell_type": "code",
   "execution_count": 4,
   "id": "78b2c7e5",
   "metadata": {},
   "outputs": [
    {
     "name": "stderr",
     "output_type": "stream",
     "text": [
      "C:\\Users\\guddk\\AppData\\Local\\Temp\\ipykernel_22408\\3110045441.py:24: FutureWarning: The frame.append method is deprecated and will be removed from pandas in a future version. Use pandas.concat instead.\n",
      "  result = result.append(pd.DataFrame({'작성자':res_nick}))\n",
      "C:\\Users\\guddk\\AppData\\Local\\Temp\\ipykernel_22408\\3110045441.py:24: FutureWarning: The frame.append method is deprecated and will be removed from pandas in a future version. Use pandas.concat instead.\n",
      "  result = result.append(pd.DataFrame({'작성자':res_nick}))\n",
      "C:\\Users\\guddk\\AppData\\Local\\Temp\\ipykernel_22408\\3110045441.py:24: FutureWarning: The frame.append method is deprecated and will be removed from pandas in a future version. Use pandas.concat instead.\n",
      "  result = result.append(pd.DataFrame({'작성자':res_nick}))\n",
      "C:\\Users\\guddk\\AppData\\Local\\Temp\\ipykernel_22408\\3110045441.py:24: FutureWarning: The frame.append method is deprecated and will be removed from pandas in a future version. Use pandas.concat instead.\n",
      "  result = result.append(pd.DataFrame({'작성자':res_nick}))\n",
      "C:\\Users\\guddk\\AppData\\Local\\Temp\\ipykernel_22408\\3110045441.py:24: FutureWarning: The frame.append method is deprecated and will be removed from pandas in a future version. Use pandas.concat instead.\n",
      "  result = result.append(pd.DataFrame({'작성자':res_nick}))\n",
      "C:\\Users\\guddk\\AppData\\Local\\Temp\\ipykernel_22408\\3110045441.py:24: FutureWarning: The frame.append method is deprecated and will be removed from pandas in a future version. Use pandas.concat instead.\n",
      "  result = result.append(pd.DataFrame({'작성자':res_nick}))\n",
      "C:\\Users\\guddk\\AppData\\Local\\Temp\\ipykernel_22408\\3110045441.py:24: FutureWarning: The frame.append method is deprecated and will be removed from pandas in a future version. Use pandas.concat instead.\n",
      "  result = result.append(pd.DataFrame({'작성자':res_nick}))\n",
      "C:\\Users\\guddk\\AppData\\Local\\Temp\\ipykernel_22408\\3110045441.py:24: FutureWarning: The frame.append method is deprecated and will be removed from pandas in a future version. Use pandas.concat instead.\n",
      "  result = result.append(pd.DataFrame({'작성자':res_nick}))\n",
      "C:\\Users\\guddk\\AppData\\Local\\Temp\\ipykernel_22408\\3110045441.py:24: FutureWarning: The frame.append method is deprecated and will be removed from pandas in a future version. Use pandas.concat instead.\n",
      "  result = result.append(pd.DataFrame({'작성자':res_nick}))\n",
      "C:\\Users\\guddk\\AppData\\Local\\Temp\\ipykernel_22408\\3110045441.py:24: FutureWarning: The frame.append method is deprecated and will be removed from pandas in a future version. Use pandas.concat instead.\n",
      "  result = result.append(pd.DataFrame({'작성자':res_nick}))\n",
      "C:\\Users\\guddk\\AppData\\Local\\Temp\\ipykernel_22408\\3110045441.py:24: FutureWarning: The frame.append method is deprecated and will be removed from pandas in a future version. Use pandas.concat instead.\n",
      "  result = result.append(pd.DataFrame({'작성자':res_nick}))\n",
      "C:\\Users\\guddk\\AppData\\Local\\Temp\\ipykernel_22408\\3110045441.py:24: FutureWarning: The frame.append method is deprecated and will be removed from pandas in a future version. Use pandas.concat instead.\n",
      "  result = result.append(pd.DataFrame({'작성자':res_nick}))\n",
      "C:\\Users\\guddk\\AppData\\Local\\Temp\\ipykernel_22408\\3110045441.py:24: FutureWarning: The frame.append method is deprecated and will be removed from pandas in a future version. Use pandas.concat instead.\n",
      "  result = result.append(pd.DataFrame({'작성자':res_nick}))\n",
      "C:\\Users\\guddk\\AppData\\Local\\Temp\\ipykernel_22408\\3110045441.py:24: FutureWarning: The frame.append method is deprecated and will be removed from pandas in a future version. Use pandas.concat instead.\n",
      "  result = result.append(pd.DataFrame({'작성자':res_nick}))\n",
      "C:\\Users\\guddk\\AppData\\Local\\Temp\\ipykernel_22408\\3110045441.py:24: FutureWarning: The frame.append method is deprecated and will be removed from pandas in a future version. Use pandas.concat instead.\n",
      "  result = result.append(pd.DataFrame({'작성자':res_nick}))\n",
      "C:\\Users\\guddk\\AppData\\Local\\Temp\\ipykernel_22408\\3110045441.py:24: FutureWarning: The frame.append method is deprecated and will be removed from pandas in a future version. Use pandas.concat instead.\n",
      "  result = result.append(pd.DataFrame({'작성자':res_nick}))\n",
      "C:\\Users\\guddk\\AppData\\Local\\Temp\\ipykernel_22408\\3110045441.py:24: FutureWarning: The frame.append method is deprecated and will be removed from pandas in a future version. Use pandas.concat instead.\n",
      "  result = result.append(pd.DataFrame({'작성자':res_nick}))\n",
      "C:\\Users\\guddk\\AppData\\Local\\Temp\\ipykernel_22408\\3110045441.py:24: FutureWarning: The frame.append method is deprecated and will be removed from pandas in a future version. Use pandas.concat instead.\n",
      "  result = result.append(pd.DataFrame({'작성자':res_nick}))\n",
      "C:\\Users\\guddk\\AppData\\Local\\Temp\\ipykernel_22408\\3110045441.py:24: FutureWarning: The frame.append method is deprecated and will be removed from pandas in a future version. Use pandas.concat instead.\n",
      "  result = result.append(pd.DataFrame({'작성자':res_nick}))\n",
      "C:\\Users\\guddk\\AppData\\Local\\Temp\\ipykernel_22408\\3110045441.py:24: FutureWarning: The frame.append method is deprecated and will be removed from pandas in a future version. Use pandas.concat instead.\n",
      "  result = result.append(pd.DataFrame({'작성자':res_nick}))\n",
      "C:\\Users\\guddk\\AppData\\Local\\Temp\\ipykernel_22408\\3110045441.py:24: FutureWarning: The frame.append method is deprecated and will be removed from pandas in a future version. Use pandas.concat instead.\n",
      "  result = result.append(pd.DataFrame({'작성자':res_nick}))\n",
      "C:\\Users\\guddk\\AppData\\Local\\Temp\\ipykernel_22408\\3110045441.py:24: FutureWarning: The frame.append method is deprecated and will be removed from pandas in a future version. Use pandas.concat instead.\n",
      "  result = result.append(pd.DataFrame({'작성자':res_nick}))\n",
      "C:\\Users\\guddk\\AppData\\Local\\Temp\\ipykernel_22408\\3110045441.py:24: FutureWarning: The frame.append method is deprecated and will be removed from pandas in a future version. Use pandas.concat instead.\n",
      "  result = result.append(pd.DataFrame({'작성자':res_nick}))\n",
      "C:\\Users\\guddk\\AppData\\Local\\Temp\\ipykernel_22408\\3110045441.py:24: FutureWarning: The frame.append method is deprecated and will be removed from pandas in a future version. Use pandas.concat instead.\n",
      "  result = result.append(pd.DataFrame({'작성자':res_nick}))\n",
      "C:\\Users\\guddk\\AppData\\Local\\Temp\\ipykernel_22408\\3110045441.py:24: FutureWarning: The frame.append method is deprecated and will be removed from pandas in a future version. Use pandas.concat instead.\n",
      "  result = result.append(pd.DataFrame({'작성자':res_nick}))\n",
      "C:\\Users\\guddk\\AppData\\Local\\Temp\\ipykernel_22408\\3110045441.py:24: FutureWarning: The frame.append method is deprecated and will be removed from pandas in a future version. Use pandas.concat instead.\n",
      "  result = result.append(pd.DataFrame({'작성자':res_nick}))\n",
      "C:\\Users\\guddk\\AppData\\Local\\Temp\\ipykernel_22408\\3110045441.py:24: FutureWarning: The frame.append method is deprecated and will be removed from pandas in a future version. Use pandas.concat instead.\n",
      "  result = result.append(pd.DataFrame({'작성자':res_nick}))\n",
      "C:\\Users\\guddk\\AppData\\Local\\Temp\\ipykernel_22408\\3110045441.py:24: FutureWarning: The frame.append method is deprecated and will be removed from pandas in a future version. Use pandas.concat instead.\n",
      "  result = result.append(pd.DataFrame({'작성자':res_nick}))\n",
      "C:\\Users\\guddk\\AppData\\Local\\Temp\\ipykernel_22408\\3110045441.py:24: FutureWarning: The frame.append method is deprecated and will be removed from pandas in a future version. Use pandas.concat instead.\n",
      "  result = result.append(pd.DataFrame({'작성자':res_nick}))\n",
      "C:\\Users\\guddk\\AppData\\Local\\Temp\\ipykernel_22408\\3110045441.py:24: FutureWarning: The frame.append method is deprecated and will be removed from pandas in a future version. Use pandas.concat instead.\n",
      "  result = result.append(pd.DataFrame({'작성자':res_nick}))\n",
      "C:\\Users\\guddk\\AppData\\Local\\Temp\\ipykernel_22408\\3110045441.py:24: FutureWarning: The frame.append method is deprecated and will be removed from pandas in a future version. Use pandas.concat instead.\n",
      "  result = result.append(pd.DataFrame({'작성자':res_nick}))\n",
      "C:\\Users\\guddk\\AppData\\Local\\Temp\\ipykernel_22408\\3110045441.py:24: FutureWarning: The frame.append method is deprecated and will be removed from pandas in a future version. Use pandas.concat instead.\n",
      "  result = result.append(pd.DataFrame({'작성자':res_nick}))\n"
     ]
    },
    {
     "name": "stderr",
     "output_type": "stream",
     "text": [
      "C:\\Users\\guddk\\AppData\\Local\\Temp\\ipykernel_22408\\3110045441.py:24: FutureWarning: The frame.append method is deprecated and will be removed from pandas in a future version. Use pandas.concat instead.\n",
      "  result = result.append(pd.DataFrame({'작성자':res_nick}))\n",
      "C:\\Users\\guddk\\AppData\\Local\\Temp\\ipykernel_22408\\3110045441.py:24: FutureWarning: The frame.append method is deprecated and will be removed from pandas in a future version. Use pandas.concat instead.\n",
      "  result = result.append(pd.DataFrame({'작성자':res_nick}))\n",
      "C:\\Users\\guddk\\AppData\\Local\\Temp\\ipykernel_22408\\3110045441.py:24: FutureWarning: The frame.append method is deprecated and will be removed from pandas in a future version. Use pandas.concat instead.\n",
      "  result = result.append(pd.DataFrame({'작성자':res_nick}))\n",
      "C:\\Users\\guddk\\AppData\\Local\\Temp\\ipykernel_22408\\3110045441.py:24: FutureWarning: The frame.append method is deprecated and will be removed from pandas in a future version. Use pandas.concat instead.\n",
      "  result = result.append(pd.DataFrame({'작성자':res_nick}))\n",
      "C:\\Users\\guddk\\AppData\\Local\\Temp\\ipykernel_22408\\3110045441.py:24: FutureWarning: The frame.append method is deprecated and will be removed from pandas in a future version. Use pandas.concat instead.\n",
      "  result = result.append(pd.DataFrame({'작성자':res_nick}))\n",
      "C:\\Users\\guddk\\AppData\\Local\\Temp\\ipykernel_22408\\3110045441.py:24: FutureWarning: The frame.append method is deprecated and will be removed from pandas in a future version. Use pandas.concat instead.\n",
      "  result = result.append(pd.DataFrame({'작성자':res_nick}))\n",
      "C:\\Users\\guddk\\AppData\\Local\\Temp\\ipykernel_22408\\3110045441.py:24: FutureWarning: The frame.append method is deprecated and will be removed from pandas in a future version. Use pandas.concat instead.\n",
      "  result = result.append(pd.DataFrame({'작성자':res_nick}))\n",
      "C:\\Users\\guddk\\AppData\\Local\\Temp\\ipykernel_22408\\3110045441.py:24: FutureWarning: The frame.append method is deprecated and will be removed from pandas in a future version. Use pandas.concat instead.\n",
      "  result = result.append(pd.DataFrame({'작성자':res_nick}))\n",
      "C:\\Users\\guddk\\AppData\\Local\\Temp\\ipykernel_22408\\3110045441.py:24: FutureWarning: The frame.append method is deprecated and will be removed from pandas in a future version. Use pandas.concat instead.\n",
      "  result = result.append(pd.DataFrame({'작성자':res_nick}))\n",
      "C:\\Users\\guddk\\AppData\\Local\\Temp\\ipykernel_22408\\3110045441.py:24: FutureWarning: The frame.append method is deprecated and will be removed from pandas in a future version. Use pandas.concat instead.\n",
      "  result = result.append(pd.DataFrame({'작성자':res_nick}))\n",
      "C:\\Users\\guddk\\AppData\\Local\\Temp\\ipykernel_22408\\3110045441.py:24: FutureWarning: The frame.append method is deprecated and will be removed from pandas in a future version. Use pandas.concat instead.\n",
      "  result = result.append(pd.DataFrame({'작성자':res_nick}))\n",
      "C:\\Users\\guddk\\AppData\\Local\\Temp\\ipykernel_22408\\3110045441.py:24: FutureWarning: The frame.append method is deprecated and will be removed from pandas in a future version. Use pandas.concat instead.\n",
      "  result = result.append(pd.DataFrame({'작성자':res_nick}))\n",
      "C:\\Users\\guddk\\AppData\\Local\\Temp\\ipykernel_22408\\3110045441.py:24: FutureWarning: The frame.append method is deprecated and will be removed from pandas in a future version. Use pandas.concat instead.\n",
      "  result = result.append(pd.DataFrame({'작성자':res_nick}))\n",
      "C:\\Users\\guddk\\AppData\\Local\\Temp\\ipykernel_22408\\3110045441.py:24: FutureWarning: The frame.append method is deprecated and will be removed from pandas in a future version. Use pandas.concat instead.\n",
      "  result = result.append(pd.DataFrame({'작성자':res_nick}))\n",
      "C:\\Users\\guddk\\AppData\\Local\\Temp\\ipykernel_22408\\3110045441.py:24: FutureWarning: The frame.append method is deprecated and will be removed from pandas in a future version. Use pandas.concat instead.\n",
      "  result = result.append(pd.DataFrame({'작성자':res_nick}))\n",
      "C:\\Users\\guddk\\AppData\\Local\\Temp\\ipykernel_22408\\3110045441.py:24: FutureWarning: The frame.append method is deprecated and will be removed from pandas in a future version. Use pandas.concat instead.\n",
      "  result = result.append(pd.DataFrame({'작성자':res_nick}))\n",
      "C:\\Users\\guddk\\AppData\\Local\\Temp\\ipykernel_22408\\3110045441.py:24: FutureWarning: The frame.append method is deprecated and will be removed from pandas in a future version. Use pandas.concat instead.\n",
      "  result = result.append(pd.DataFrame({'작성자':res_nick}))\n",
      "C:\\Users\\guddk\\AppData\\Local\\Temp\\ipykernel_22408\\3110045441.py:24: FutureWarning: The frame.append method is deprecated and will be removed from pandas in a future version. Use pandas.concat instead.\n",
      "  result = result.append(pd.DataFrame({'작성자':res_nick}))\n"
     ]
    }
   ],
   "source": [
    "result = pd.DataFrame()\n",
    "for i in range(1,51):\n",
    "    try : \n",
    "        url = 'https://cafe.naver.com/myfriendspet?iframe_url=/ArticleList.nhn%3Fsearch.clubid=12621653%26search.menuid=141%26search.useuparticle=true%26userDisplay=50%26search.page=' + str(i)\n",
    "        driver.get(url)\n",
    "        time.sleep(1)\n",
    "        \n",
    "        driver.switch_to.frame('cafe_main')\n",
    "        # 페이지 클릭\n",
    "#         driver.find_element(By.XPATH,'//*[@id=\"main-area\"]/div[7]/a['+str(page)+']').click()\n",
    "#         time.sleep(1)\n",
    "        \n",
    "        # 게시글 50개씩 \n",
    "#         driver.find_element(By.CSS_SELECTOR,'#listSizeSelectDiv').click()\n",
    "#         driver.find_element(By.XPATH,'//*[@id=\"listSizeSelectDiv\"]/ul/li[7]/a').click()\n",
    "\n",
    "        nicks = '#main-area > div:nth-child(5) > table > tbody > tr > td.td_name > div > table > tbody > tr > td > a '\n",
    "        # 작성자 수집   \n",
    "        nick = driver.find_elements(By.CSS_SELECTOR, nicks)\n",
    "        \n",
    "        res_nick = [r.text for r in nick]\n",
    "        time.sleep(1)\n",
    "\n",
    "        result = result.append(pd.DataFrame({'작성자':res_nick})) \n",
    "        \n",
    "    except :\n",
    "        pass\n"
   ]
  },
  {
   "cell_type": "code",
   "execution_count": 5,
   "id": "49534c5f",
   "metadata": {},
   "outputs": [
    {
     "data": {
      "text/html": [
       "<div>\n",
       "<style scoped>\n",
       "    .dataframe tbody tr th:only-of-type {\n",
       "        vertical-align: middle;\n",
       "    }\n",
       "\n",
       "    .dataframe tbody tr th {\n",
       "        vertical-align: top;\n",
       "    }\n",
       "\n",
       "    .dataframe thead th {\n",
       "        text-align: right;\n",
       "    }\n",
       "</style>\n",
       "<table border=\"1\" class=\"dataframe\">\n",
       "  <thead>\n",
       "    <tr style=\"text-align: right;\">\n",
       "      <th></th>\n",
       "      <th>작성자</th>\n",
       "    </tr>\n",
       "  </thead>\n",
       "  <tbody>\n",
       "    <tr>\n",
       "      <th>0</th>\n",
       "      <td>옴</td>\n",
       "    </tr>\n",
       "    <tr>\n",
       "      <th>1</th>\n",
       "      <td>옴</td>\n",
       "    </tr>\n",
       "    <tr>\n",
       "      <th>2</th>\n",
       "      <td>끼선</td>\n",
       "    </tr>\n",
       "    <tr>\n",
       "      <th>3</th>\n",
       "      <td>노랑 봄이</td>\n",
       "    </tr>\n",
       "    <tr>\n",
       "      <th>4</th>\n",
       "      <td>쓰리설아씨와노예집사</td>\n",
       "    </tr>\n",
       "    <tr>\n",
       "      <th>...</th>\n",
       "      <td>...</td>\n",
       "    </tr>\n",
       "    <tr>\n",
       "      <th>28</th>\n",
       "      <td>파이도우</td>\n",
       "    </tr>\n",
       "    <tr>\n",
       "      <th>29</th>\n",
       "      <td>홍시마미</td>\n",
       "    </tr>\n",
       "    <tr>\n",
       "      <th>30</th>\n",
       "      <td>hyo</td>\n",
       "    </tr>\n",
       "    <tr>\n",
       "      <th>31</th>\n",
       "      <td>모찌무찌</td>\n",
       "    </tr>\n",
       "    <tr>\n",
       "      <th>32</th>\n",
       "      <td>홍시마미</td>\n",
       "    </tr>\n",
       "  </tbody>\n",
       "</table>\n",
       "<p>1692 rows × 1 columns</p>\n",
       "</div>"
      ],
      "text/plain": [
       "           작성자\n",
       "0            옴\n",
       "1            옴\n",
       "2           끼선\n",
       "3        노랑 봄이\n",
       "4   쓰리설아씨와노예집사\n",
       "..         ...\n",
       "28        파이도우\n",
       "29        홍시마미\n",
       "30         hyo\n",
       "31        모찌무찌\n",
       "32        홍시마미\n",
       "\n",
       "[1692 rows x 1 columns]"
      ]
     },
     "execution_count": 5,
     "metadata": {},
     "output_type": "execute_result"
    }
   ],
   "source": [
    "result"
   ]
  },
  {
   "cell_type": "code",
   "execution_count": 6,
   "id": "50cbec0e",
   "metadata": {},
   "outputs": [],
   "source": [
    "result.drop_duplicates(subset=None, keep='first', inplace=True, ignore_index=True)"
   ]
  },
  {
   "cell_type": "code",
   "execution_count": 7,
   "id": "ca2d34bd",
   "metadata": {},
   "outputs": [
    {
     "data": {
      "text/html": [
       "<div>\n",
       "<style scoped>\n",
       "    .dataframe tbody tr th:only-of-type {\n",
       "        vertical-align: middle;\n",
       "    }\n",
       "\n",
       "    .dataframe tbody tr th {\n",
       "        vertical-align: top;\n",
       "    }\n",
       "\n",
       "    .dataframe thead th {\n",
       "        text-align: right;\n",
       "    }\n",
       "</style>\n",
       "<table border=\"1\" class=\"dataframe\">\n",
       "  <thead>\n",
       "    <tr style=\"text-align: right;\">\n",
       "      <th></th>\n",
       "      <th>작성자</th>\n",
       "    </tr>\n",
       "  </thead>\n",
       "  <tbody>\n",
       "    <tr>\n",
       "      <th>0</th>\n",
       "      <td>옴</td>\n",
       "    </tr>\n",
       "    <tr>\n",
       "      <th>1</th>\n",
       "      <td>끼선</td>\n",
       "    </tr>\n",
       "    <tr>\n",
       "      <th>2</th>\n",
       "      <td>노랑 봄이</td>\n",
       "    </tr>\n",
       "    <tr>\n",
       "      <th>3</th>\n",
       "      <td>쓰리설아씨와노예집사</td>\n",
       "    </tr>\n",
       "    <tr>\n",
       "      <th>4</th>\n",
       "      <td>매력덩거리</td>\n",
       "    </tr>\n",
       "    <tr>\n",
       "      <th>...</th>\n",
       "      <td>...</td>\n",
       "    </tr>\n",
       "    <tr>\n",
       "      <th>613</th>\n",
       "      <td>조하나</td>\n",
       "    </tr>\n",
       "    <tr>\n",
       "      <th>614</th>\n",
       "      <td>미니마니</td>\n",
       "    </tr>\n",
       "    <tr>\n",
       "      <th>615</th>\n",
       "      <td>귤저몽</td>\n",
       "    </tr>\n",
       "    <tr>\n",
       "      <th>616</th>\n",
       "      <td>블리sz</td>\n",
       "    </tr>\n",
       "    <tr>\n",
       "      <th>617</th>\n",
       "      <td>hyo</td>\n",
       "    </tr>\n",
       "  </tbody>\n",
       "</table>\n",
       "<p>618 rows × 1 columns</p>\n",
       "</div>"
      ],
      "text/plain": [
       "            작성자\n",
       "0             옴\n",
       "1            끼선\n",
       "2         노랑 봄이\n",
       "3    쓰리설아씨와노예집사\n",
       "4         매력덩거리\n",
       "..          ...\n",
       "613         조하나\n",
       "614        미니마니\n",
       "615         귤저몽\n",
       "616        블리sz\n",
       "617         hyo\n",
       "\n",
       "[618 rows x 1 columns]"
      ]
     },
     "execution_count": 7,
     "metadata": {},
     "output_type": "execute_result"
    }
   ],
   "source": [
    "result"
   ]
  },
  {
   "cell_type": "code",
   "execution_count": 10,
   "id": "329a3eb1",
   "metadata": {},
   "outputs": [],
   "source": [
    "result.to_csv('./hamster_like.csv', encoding = 'utf-8-sig')"
   ]
  },
  {
   "cell_type": "code",
   "execution_count": 11,
   "id": "d1ee3ce8",
   "metadata": {},
   "outputs": [
    {
     "ename": "InvalidSessionIdException",
     "evalue": "Message: invalid session id\n",
     "output_type": "error",
     "traceback": [
      "\u001b[1;31m---------------------------------------------------------------------------\u001b[0m",
      "\u001b[1;31mInvalidSessionIdException\u001b[0m                 Traceback (most recent call last)",
      "Cell \u001b[1;32mIn[11], line 1\u001b[0m\n\u001b[1;32m----> 1\u001b[0m \u001b[43mdriver\u001b[49m\u001b[38;5;241;43m.\u001b[39;49m\u001b[43mclose\u001b[49m\u001b[43m(\u001b[49m\u001b[43m)\u001b[49m\n",
      "File \u001b[1;32m~\\anaconda3\\lib\\site-packages\\selenium\\webdriver\\remote\\webdriver.py:688\u001b[0m, in \u001b[0;36mWebDriver.close\u001b[1;34m(self)\u001b[0m\n\u001b[0;32m    681\u001b[0m \u001b[38;5;28;01mdef\u001b[39;00m \u001b[38;5;21mclose\u001b[39m(\u001b[38;5;28mself\u001b[39m):\n\u001b[0;32m    682\u001b[0m     \u001b[38;5;124;03m\"\"\"\u001b[39;00m\n\u001b[0;32m    683\u001b[0m \u001b[38;5;124;03m    Closes the current window.\u001b[39;00m\n\u001b[0;32m    684\u001b[0m \n\u001b[0;32m    685\u001b[0m \u001b[38;5;124;03m    :Usage:\u001b[39;00m\n\u001b[0;32m    686\u001b[0m \u001b[38;5;124;03m        driver.close()\u001b[39;00m\n\u001b[0;32m    687\u001b[0m \u001b[38;5;124;03m    \"\"\"\u001b[39;00m\n\u001b[1;32m--> 688\u001b[0m     \u001b[38;5;28;43mself\u001b[39;49m\u001b[38;5;241;43m.\u001b[39;49m\u001b[43mexecute\u001b[49m\u001b[43m(\u001b[49m\u001b[43mCommand\u001b[49m\u001b[38;5;241;43m.\u001b[39;49m\u001b[43mCLOSE\u001b[49m\u001b[43m)\u001b[49m\n",
      "File \u001b[1;32m~\\anaconda3\\lib\\site-packages\\selenium\\webdriver\\remote\\webdriver.py:321\u001b[0m, in \u001b[0;36mWebDriver.execute\u001b[1;34m(self, driver_command, params)\u001b[0m\n\u001b[0;32m    319\u001b[0m response \u001b[38;5;241m=\u001b[39m \u001b[38;5;28mself\u001b[39m\u001b[38;5;241m.\u001b[39mcommand_executor\u001b[38;5;241m.\u001b[39mexecute(driver_command, params)\n\u001b[0;32m    320\u001b[0m \u001b[38;5;28;01mif\u001b[39;00m response:\n\u001b[1;32m--> 321\u001b[0m     \u001b[38;5;28;43mself\u001b[39;49m\u001b[38;5;241;43m.\u001b[39;49m\u001b[43merror_handler\u001b[49m\u001b[38;5;241;43m.\u001b[39;49m\u001b[43mcheck_response\u001b[49m\u001b[43m(\u001b[49m\u001b[43mresponse\u001b[49m\u001b[43m)\u001b[49m\n\u001b[0;32m    322\u001b[0m     response[\u001b[38;5;124m'\u001b[39m\u001b[38;5;124mvalue\u001b[39m\u001b[38;5;124m'\u001b[39m] \u001b[38;5;241m=\u001b[39m \u001b[38;5;28mself\u001b[39m\u001b[38;5;241m.\u001b[39m_unwrap_value(\n\u001b[0;32m    323\u001b[0m         response\u001b[38;5;241m.\u001b[39mget(\u001b[38;5;124m'\u001b[39m\u001b[38;5;124mvalue\u001b[39m\u001b[38;5;124m'\u001b[39m, \u001b[38;5;28;01mNone\u001b[39;00m))\n\u001b[0;32m    324\u001b[0m     \u001b[38;5;28;01mreturn\u001b[39;00m response\n",
      "File \u001b[1;32m~\\anaconda3\\lib\\site-packages\\selenium\\webdriver\\remote\\errorhandler.py:242\u001b[0m, in \u001b[0;36mErrorHandler.check_response\u001b[1;34m(self, response)\u001b[0m\n\u001b[0;32m    240\u001b[0m         alert_text \u001b[38;5;241m=\u001b[39m value[\u001b[38;5;124m'\u001b[39m\u001b[38;5;124malert\u001b[39m\u001b[38;5;124m'\u001b[39m]\u001b[38;5;241m.\u001b[39mget(\u001b[38;5;124m'\u001b[39m\u001b[38;5;124mtext\u001b[39m\u001b[38;5;124m'\u001b[39m)\n\u001b[0;32m    241\u001b[0m     \u001b[38;5;28;01mraise\u001b[39;00m exception_class(message, screen, stacktrace, alert_text)\n\u001b[1;32m--> 242\u001b[0m \u001b[38;5;28;01mraise\u001b[39;00m exception_class(message, screen, stacktrace)\n",
      "\u001b[1;31mInvalidSessionIdException\u001b[0m: Message: invalid session id\n"
     ]
    }
   ],
   "source": [
    "driver.close()"
   ]
  },
  {
   "cell_type": "code",
   "execution_count": null,
   "id": "2672ddd7",
   "metadata": {},
   "outputs": [],
   "source": []
  }
 ],
 "metadata": {
  "kernelspec": {
   "display_name": "Python 3 (ipykernel)",
   "language": "python",
   "name": "python3"
  },
  "language_info": {
   "codemirror_mode": {
    "name": "ipython",
    "version": 3
   },
   "file_extension": ".py",
   "mimetype": "text/x-python",
   "name": "python",
   "nbconvert_exporter": "python",
   "pygments_lexer": "ipython3",
   "version": "3.10.9"
  }
 },
 "nbformat": 4,
 "nbformat_minor": 5
}
