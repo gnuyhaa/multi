{
 "cells": [
  {
   "cell_type": "code",
   "execution_count": null,
   "id": "5762062f",
   "metadata": {},
   "outputs": [],
   "source": [
    "네이버 카페 게시글 : 햄사모 - 통합 자유게시판 \n",
    "작성자, 글내용  "
   ]
  },
  {
   "cell_type": "code",
   "execution_count": 141,
   "id": "918eaafe",
   "metadata": {},
   "outputs": [],
   "source": [
    "import selenium\n",
    "from selenium import webdriver\n",
    "import pandas as pd\n",
    "import numpy as np\n",
    "from bs4 import BeautifulSoup\n",
    "from selenium.webdriver.common.by import By # 셀레니움 4.0부터 포함된 객체(모듈)\n",
    "import time\n",
    "import math"
   ]
  },
  {
   "cell_type": "code",
   "execution_count": 142,
   "id": "75efb825",
   "metadata": {},
   "outputs": [],
   "source": [
    "driver = webdriver.Chrome('./driver/chromedriver')"
   ]
  },
  {
   "cell_type": "code",
   "execution_count": 60,
   "id": "29f603d6",
   "metadata": {},
   "outputs": [],
   "source": [
    "url = 'https://nid.naver.com/nidlogin.login'\n",
    "driver.get(url)"
   ]
  },
  {
   "cell_type": "code",
   "execution_count": 61,
   "id": "0c87bb97",
   "metadata": {},
   "outputs": [],
   "source": [
    "id_input = '본인아이디'\n",
    "pw_input = '본인비밀번호'"
   ]
  },
  {
   "cell_type": "code",
   "execution_count": 62,
   "id": "f2662b99",
   "metadata": {},
   "outputs": [],
   "source": [
    "driver.execute_script(\"document.getElementsByName('id')[0].value=\\'\"+id_input+\"\\'\")"
   ]
  },
  {
   "cell_type": "code",
   "execution_count": 63,
   "id": "283e5eed",
   "metadata": {},
   "outputs": [],
   "source": [
    "driver.execute_script(\"document.getElementsByName('pw')[0].value=\\'\"+pw_input+\"\\'\")"
   ]
  },
  {
   "cell_type": "code",
   "execution_count": 64,
   "id": "b9f55445",
   "metadata": {},
   "outputs": [],
   "source": [
    "# 로그인 버튼 클릭\n",
    "xpath='//*[@id=\"log.login\"]'\n",
    "#로그인 버튼을 찾아서 클릭\n",
    "driver.find_element(By.XPATH, xpath).click() # 셀레니움 클릭함수"
   ]
  },
  {
   "cell_type": "code",
   "execution_count": 125,
   "id": "68111724",
   "metadata": {},
   "outputs": [],
   "source": [
    "url = 'https://cafe.naver.com/myfriendspet'\n",
    "driver.get(url)"
   ]
  },
  {
   "cell_type": "code",
   "execution_count": 87,
   "id": "b75931a6",
   "metadata": {},
   "outputs": [],
   "source": [
    "ham_id = 12621653 # 카페 id\n",
    "menu_id = 141 # 통합 자유게시판 id "
   ]
  },
  {
   "cell_type": "code",
   "execution_count": 126,
   "id": "7fda9ea1",
   "metadata": {},
   "outputs": [],
   "source": [
    "# 통합 자유게시판 열기\n",
    "driver.get(f'{url}?iframe_url=/ArticleList.nhn%3Fsearch.clubid={ham_id}%26search.menuid={menu_id}%26userDisplay=50%26search.page=2')\n",
    "time.sleep(2)\n",
    "\n",
    "driver.switch_to.frame('cafe_main')"
   ]
  },
  {
   "cell_type": "code",
   "execution_count": 127,
   "id": "b5770a64",
   "metadata": {},
   "outputs": [
    {
     "data": {
      "text/plain": [
       "[<selenium.webdriver.remote.webelement.WebElement (session=\"0a6d7eed084bf68e4e0558edf30f83d7\", element=\"6693a06d-a547-4aa6-bf35-84aca6d2d0c3\")>,\n",
       " <selenium.webdriver.remote.webelement.WebElement (session=\"0a6d7eed084bf68e4e0558edf30f83d7\", element=\"12deeda6-6da1-40e1-bfb5-8c1abd6da894\")>,\n",
       " <selenium.webdriver.remote.webelement.WebElement (session=\"0a6d7eed084bf68e4e0558edf30f83d7\", element=\"c83fabd6-4769-49eb-aeaa-d030cdb2bfdf\")>,\n",
       " <selenium.webdriver.remote.webelement.WebElement (session=\"0a6d7eed084bf68e4e0558edf30f83d7\", element=\"6023edf5-7f06-4f74-8372-51de7ec28012\")>,\n",
       " <selenium.webdriver.remote.webelement.WebElement (session=\"0a6d7eed084bf68e4e0558edf30f83d7\", element=\"adccfd84-c210-477d-aaa1-2851d37cc408\")>,\n",
       " <selenium.webdriver.remote.webelement.WebElement (session=\"0a6d7eed084bf68e4e0558edf30f83d7\", element=\"826a7b93-b1a2-4720-8c0c-5837a66c86e8\")>,\n",
       " <selenium.webdriver.remote.webelement.WebElement (session=\"0a6d7eed084bf68e4e0558edf30f83d7\", element=\"4a724596-4829-426a-90e3-9de6fe30d400\")>,\n",
       " <selenium.webdriver.remote.webelement.WebElement (session=\"0a6d7eed084bf68e4e0558edf30f83d7\", element=\"6f192401-c930-459c-b6ff-589fd7655829\")>,\n",
       " <selenium.webdriver.remote.webelement.WebElement (session=\"0a6d7eed084bf68e4e0558edf30f83d7\", element=\"53990e60-afaa-4ec9-bcaa-a6cd6bbd8f43\")>,\n",
       " <selenium.webdriver.remote.webelement.WebElement (session=\"0a6d7eed084bf68e4e0558edf30f83d7\", element=\"0e86d8f9-0eab-4a02-b672-0392cfbfe2b5\")>,\n",
       " <selenium.webdriver.remote.webelement.WebElement (session=\"0a6d7eed084bf68e4e0558edf30f83d7\", element=\"7dd03ae7-6d60-41fa-abba-26c72d44c667\")>,\n",
       " <selenium.webdriver.remote.webelement.WebElement (session=\"0a6d7eed084bf68e4e0558edf30f83d7\", element=\"7331e63d-8dac-4d14-96c2-c621421504e7\")>,\n",
       " <selenium.webdriver.remote.webelement.WebElement (session=\"0a6d7eed084bf68e4e0558edf30f83d7\", element=\"72a73cec-331b-4bf1-8131-11c15d4237e0\")>,\n",
       " <selenium.webdriver.remote.webelement.WebElement (session=\"0a6d7eed084bf68e4e0558edf30f83d7\", element=\"76a79039-ec1e-46f7-8517-fba3e3e038d3\")>,\n",
       " <selenium.webdriver.remote.webelement.WebElement (session=\"0a6d7eed084bf68e4e0558edf30f83d7\", element=\"d37e0013-6e06-44b4-b845-6f3fbdb97a5b\")>]"
      ]
     },
     "execution_count": 127,
     "metadata": {},
     "output_type": "execute_result"
    }
   ],
   "source": [
    "nicks = '#main-area > div:nth-child(5) > table > tbody > tr > td.td_name > div > table > tbody > tr > td > a '\n",
    "elem = driver.find_elements(By.CSS_SELECTOR, nicks)\n",
    "elem"
   ]
  },
  {
   "cell_type": "code",
   "execution_count": 110,
   "id": "84e12337",
   "metadata": {},
   "outputs": [
    {
     "data": {
      "text/plain": [
       "'밀금'"
      ]
     },
     "execution_count": 110,
     "metadata": {},
     "output_type": "execute_result"
    }
   ],
   "source": [
    "elem[3].text"
   ]
  },
  {
   "cell_type": "code",
   "execution_count": 143,
   "id": "78b2c7e5",
   "metadata": {},
   "outputs": [
    {
     "name": "stderr",
     "output_type": "stream",
     "text": [
      "C:\\Users\\guddk\\AppData\\Local\\Temp\\ipykernel_8144\\2800594206.py:24: FutureWarning: The frame.append method is deprecated and will be removed from pandas in a future version. Use pandas.concat instead.\n",
      "  result = result.append(pd.DataFrame({'작성자':res_nick}))\n",
      "C:\\Users\\guddk\\AppData\\Local\\Temp\\ipykernel_8144\\2800594206.py:24: FutureWarning: The frame.append method is deprecated and will be removed from pandas in a future version. Use pandas.concat instead.\n",
      "  result = result.append(pd.DataFrame({'작성자':res_nick}))\n",
      "C:\\Users\\guddk\\AppData\\Local\\Temp\\ipykernel_8144\\2800594206.py:24: FutureWarning: The frame.append method is deprecated and will be removed from pandas in a future version. Use pandas.concat instead.\n",
      "  result = result.append(pd.DataFrame({'작성자':res_nick}))\n",
      "C:\\Users\\guddk\\AppData\\Local\\Temp\\ipykernel_8144\\2800594206.py:24: FutureWarning: The frame.append method is deprecated and will be removed from pandas in a future version. Use pandas.concat instead.\n",
      "  result = result.append(pd.DataFrame({'작성자':res_nick}))\n",
      "C:\\Users\\guddk\\AppData\\Local\\Temp\\ipykernel_8144\\2800594206.py:24: FutureWarning: The frame.append method is deprecated and will be removed from pandas in a future version. Use pandas.concat instead.\n",
      "  result = result.append(pd.DataFrame({'작성자':res_nick}))\n",
      "C:\\Users\\guddk\\AppData\\Local\\Temp\\ipykernel_8144\\2800594206.py:24: FutureWarning: The frame.append method is deprecated and will be removed from pandas in a future version. Use pandas.concat instead.\n",
      "  result = result.append(pd.DataFrame({'작성자':res_nick}))\n",
      "C:\\Users\\guddk\\AppData\\Local\\Temp\\ipykernel_8144\\2800594206.py:24: FutureWarning: The frame.append method is deprecated and will be removed from pandas in a future version. Use pandas.concat instead.\n",
      "  result = result.append(pd.DataFrame({'작성자':res_nick}))\n",
      "C:\\Users\\guddk\\AppData\\Local\\Temp\\ipykernel_8144\\2800594206.py:24: FutureWarning: The frame.append method is deprecated and will be removed from pandas in a future version. Use pandas.concat instead.\n",
      "  result = result.append(pd.DataFrame({'작성자':res_nick}))\n",
      "C:\\Users\\guddk\\AppData\\Local\\Temp\\ipykernel_8144\\2800594206.py:24: FutureWarning: The frame.append method is deprecated and will be removed from pandas in a future version. Use pandas.concat instead.\n",
      "  result = result.append(pd.DataFrame({'작성자':res_nick}))\n",
      "C:\\Users\\guddk\\AppData\\Local\\Temp\\ipykernel_8144\\2800594206.py:24: FutureWarning: The frame.append method is deprecated and will be removed from pandas in a future version. Use pandas.concat instead.\n",
      "  result = result.append(pd.DataFrame({'작성자':res_nick}))\n"
     ]
    }
   ],
   "source": [
    "result = pd.DataFrame()\n",
    "for i in range(1,51):\n",
    "    try : \n",
    "        url = 'https://cafe.naver.com/myfriendspet?iframe_url=/ArticleList.nhn%3Fsearch.clubid=12621653%26search.menuid=141%26userDisplay=50%26search.page=' + str(i)\n",
    "        driver.get(url)\n",
    "        time.sleep(2)\n",
    "        \n",
    "        driver.switch_to.frame('cafe_main')\n",
    "        # 페이지 클릭\n",
    "#         driver.find_element(By.XPATH,'//*[@id=\"main-area\"]/div[7]/a['+str(page)+']').click()\n",
    "#         time.sleep(1)\n",
    "        \n",
    "        # 게시글 50개씩 \n",
    "#         driver.find_element(By.CSS_SELECTOR,'#listSizeSelectDiv').click()\n",
    "#         driver.find_element(By.XPATH,'//*[@id=\"listSizeSelectDiv\"]/ul/li[7]/a').click()\n",
    "\n",
    "        nicks = '#main-area > div:nth-child(5) > table > tbody > tr > td.td_name > div > table > tbody > tr > td > a '\n",
    "        # 작성자 수집   \n",
    "        nick = driver.find_elements(By.CSS_SELECTOR, nicks)\n",
    "        \n",
    "        res_nick = [r.text for r in nick]\n",
    "        time.sleep(2)\n",
    "\n",
    "        result = result.append(pd.DataFrame({'작성자':res_nick})) \n",
    "        \n",
    "    except :\n",
    "        pass\n"
   ]
  },
  {
   "cell_type": "code",
   "execution_count": 133,
   "id": "49534c5f",
   "metadata": {},
   "outputs": [
    {
     "data": {
      "text/html": [
       "<div>\n",
       "<style scoped>\n",
       "    .dataframe tbody tr th:only-of-type {\n",
       "        vertical-align: middle;\n",
       "    }\n",
       "\n",
       "    .dataframe tbody tr th {\n",
       "        vertical-align: top;\n",
       "    }\n",
       "\n",
       "    .dataframe thead th {\n",
       "        text-align: right;\n",
       "    }\n",
       "</style>\n",
       "<table border=\"1\" class=\"dataframe\">\n",
       "  <thead>\n",
       "    <tr style=\"text-align: right;\">\n",
       "      <th></th>\n",
       "      <th>작성자</th>\n",
       "    </tr>\n",
       "  </thead>\n",
       "  <tbody>\n",
       "    <tr>\n",
       "      <th>0</th>\n",
       "      <td>울프얌</td>\n",
       "    </tr>\n",
       "    <tr>\n",
       "      <th>1</th>\n",
       "      <td>미 소</td>\n",
       "    </tr>\n",
       "    <tr>\n",
       "      <th>2</th>\n",
       "      <td>푸푸누나</td>\n",
       "    </tr>\n",
       "    <tr>\n",
       "      <th>3</th>\n",
       "      <td>GUCCI</td>\n",
       "    </tr>\n",
       "    <tr>\n",
       "      <th>4</th>\n",
       "      <td>토리엉니</td>\n",
       "    </tr>\n",
       "    <tr>\n",
       "      <th>...</th>\n",
       "      <td>...</td>\n",
       "    </tr>\n",
       "    <tr>\n",
       "      <th>45</th>\n",
       "      <td>백설이와구스네</td>\n",
       "    </tr>\n",
       "    <tr>\n",
       "      <th>46</th>\n",
       "      <td>배기백이도리돌이</td>\n",
       "    </tr>\n",
       "    <tr>\n",
       "      <th>47</th>\n",
       "      <td>겸둥이햄찌랑</td>\n",
       "    </tr>\n",
       "    <tr>\n",
       "      <th>48</th>\n",
       "      <td>안희</td>\n",
       "    </tr>\n",
       "    <tr>\n",
       "      <th>49</th>\n",
       "      <td>멜랑백호</td>\n",
       "    </tr>\n",
       "  </tbody>\n",
       "</table>\n",
       "<p>2500 rows × 1 columns</p>\n",
       "</div>"
      ],
      "text/plain": [
       "         작성자\n",
       "0        울프얌\n",
       "1        미 소\n",
       "2       푸푸누나\n",
       "3      GUCCI\n",
       "4       토리엉니\n",
       "..       ...\n",
       "45   백설이와구스네\n",
       "46  배기백이도리돌이\n",
       "47    겸둥이햄찌랑\n",
       "48        안희\n",
       "49      멜랑백호\n",
       "\n",
       "[2500 rows x 1 columns]"
      ]
     },
     "execution_count": 133,
     "metadata": {},
     "output_type": "execute_result"
    }
   ],
   "source": [
    "result"
   ]
  },
  {
   "cell_type": "code",
   "execution_count": 134,
   "id": "018a40ed",
   "metadata": {},
   "outputs": [],
   "source": [
    "result.drop_duplicates(subset=None, keep='first', inplace=True, ignore_index=True)"
   ]
  },
  {
   "cell_type": "code",
   "execution_count": 139,
   "id": "7a6756f5",
   "metadata": {},
   "outputs": [],
   "source": [
    "result.to_csv('./hamster.csv', encoding = 'utf-8-sig')"
   ]
  },
  {
   "cell_type": "code",
   "execution_count": 138,
   "id": "ca2d34bd",
   "metadata": {},
   "outputs": [
    {
     "data": {
      "text/html": [
       "<div>\n",
       "<style scoped>\n",
       "    .dataframe tbody tr th:only-of-type {\n",
       "        vertical-align: middle;\n",
       "    }\n",
       "\n",
       "    .dataframe tbody tr th {\n",
       "        vertical-align: top;\n",
       "    }\n",
       "\n",
       "    .dataframe thead th {\n",
       "        text-align: right;\n",
       "    }\n",
       "</style>\n",
       "<table border=\"1\" class=\"dataframe\">\n",
       "  <thead>\n",
       "    <tr style=\"text-align: right;\">\n",
       "      <th></th>\n",
       "      <th>작성자</th>\n",
       "    </tr>\n",
       "  </thead>\n",
       "  <tbody>\n",
       "    <tr>\n",
       "      <th>0</th>\n",
       "      <td>울프얌</td>\n",
       "    </tr>\n",
       "    <tr>\n",
       "      <th>1</th>\n",
       "      <td>미 소</td>\n",
       "    </tr>\n",
       "    <tr>\n",
       "      <th>2</th>\n",
       "      <td>푸푸누나</td>\n",
       "    </tr>\n",
       "    <tr>\n",
       "      <th>3</th>\n",
       "      <td>GUCCI</td>\n",
       "    </tr>\n",
       "    <tr>\n",
       "      <th>4</th>\n",
       "      <td>토리엉니</td>\n",
       "    </tr>\n",
       "    <tr>\n",
       "      <th>...</th>\n",
       "      <td>...</td>\n",
       "    </tr>\n",
       "    <tr>\n",
       "      <th>759</th>\n",
       "      <td>누렁지</td>\n",
       "    </tr>\n",
       "    <tr>\n",
       "      <th>760</th>\n",
       "      <td>멜랑백호</td>\n",
       "    </tr>\n",
       "    <tr>\n",
       "      <th>761</th>\n",
       "      <td>최예린</td>\n",
       "    </tr>\n",
       "    <tr>\n",
       "      <th>762</th>\n",
       "      <td>햄쥐직</td>\n",
       "    </tr>\n",
       "    <tr>\n",
       "      <th>763</th>\n",
       "      <td>복쟁</td>\n",
       "    </tr>\n",
       "  </tbody>\n",
       "</table>\n",
       "<p>764 rows × 1 columns</p>\n",
       "</div>"
      ],
      "text/plain": [
       "       작성자\n",
       "0      울프얌\n",
       "1      미 소\n",
       "2     푸푸누나\n",
       "3    GUCCI\n",
       "4     토리엉니\n",
       "..     ...\n",
       "759    누렁지\n",
       "760   멜랑백호\n",
       "761    최예린\n",
       "762    햄쥐직\n",
       "763     복쟁\n",
       "\n",
       "[764 rows x 1 columns]"
      ]
     },
     "execution_count": 138,
     "metadata": {},
     "output_type": "execute_result"
    }
   ],
   "source": [
    "result"
   ]
  },
  {
   "cell_type": "code",
   "execution_count": 140,
   "id": "d5764014",
   "metadata": {},
   "outputs": [],
   "source": [
    "driver.close()"
   ]
  }
 ],
 "metadata": {
  "kernelspec": {
   "display_name": "Python 3 (ipykernel)",
   "language": "python",
   "name": "python3"
  },
  "language_info": {
   "codemirror_mode": {
    "name": "ipython",
    "version": 3
   },
   "file_extension": ".py",
   "mimetype": "text/x-python",
   "name": "python",
   "nbconvert_exporter": "python",
   "pygments_lexer": "ipython3",
   "version": "3.10.9"
  }
 },
 "nbformat": 4,
 "nbformat_minor": 5
}
