{
 "cells": [
  {
   "cell_type": "code",
   "execution_count": 1,
   "id": "fe440f1b",
   "metadata": {},
   "outputs": [
    {
     "name": "stdout",
     "output_type": "stream",
     "text": [
      "Collecting tweepy\n",
      "  Downloading tweepy-4.14.0-py3-none-any.whl (98 kB)\n",
      "     ---------------------------------------- 98.5/98.5 kB 5.5 MB/s eta 0:00:00\n",
      "Collecting oauthlib<4,>=3.2.0\n",
      "  Downloading oauthlib-3.2.2-py3-none-any.whl (151 kB)\n",
      "     -------------------------------------- 151.7/151.7 kB 9.4 MB/s eta 0:00:00\n",
      "Collecting requests-oauthlib<2,>=1.2.0\n",
      "  Downloading requests_oauthlib-1.3.1-py2.py3-none-any.whl (23 kB)\n",
      "Requirement already satisfied: requests<3,>=2.27.0 in c:\\users\\guddk\\anaconda3\\lib\\site-packages (from tweepy) (2.28.1)\n",
      "Requirement already satisfied: certifi>=2017.4.17 in c:\\users\\guddk\\anaconda3\\lib\\site-packages (from requests<3,>=2.27.0->tweepy) (2022.12.7)\n",
      "Requirement already satisfied: idna<4,>=2.5 in c:\\users\\guddk\\anaconda3\\lib\\site-packages (from requests<3,>=2.27.0->tweepy) (3.4)\n",
      "Requirement already satisfied: charset-normalizer<3,>=2 in c:\\users\\guddk\\anaconda3\\lib\\site-packages (from requests<3,>=2.27.0->tweepy) (2.0.4)\n",
      "Requirement already satisfied: urllib3<1.27,>=1.21.1 in c:\\users\\guddk\\anaconda3\\lib\\site-packages (from requests<3,>=2.27.0->tweepy) (1.26.14)\n",
      "Installing collected packages: oauthlib, requests-oauthlib, tweepy\n",
      "Successfully installed oauthlib-3.2.2 requests-oauthlib-1.3.1 tweepy-4.14.0\n",
      "Note: you may need to restart the kernel to use updated packages.\n"
     ]
    }
   ],
   "source": [
    "# pip install tweepy"
   ]
  },
  {
   "cell_type": "code",
   "execution_count": 3,
   "id": "03aedd49",
   "metadata": {},
   "outputs": [],
   "source": [
    "import tweepy\n",
    "import pandas as pd"
   ]
  },
  {
   "cell_type": "code",
   "execution_count": 4,
   "id": "55cd5c65",
   "metadata": {},
   "outputs": [],
   "source": [
    "consumer_key = '4AG6cYnHtOWzed6YN4zw1FmSr'\n",
    "consumer_secret = 'nhf43xBWDS1ecpLLKFCda6SpbQKzm9hWAL1TsM3C4hn4mNexMo'\n",
    "access_token = '1635873181998387200-xIWwAUuD5xR4vtWJxqP9dQkJdeDvPg'\n",
    "access_token_secret = 'jFViSFeDs5uBMRcG0GO1aJBMFWFCNL7aaVVdieSVljfGr'"
   ]
  },
  {
   "cell_type": "code",
   "execution_count": 5,
   "id": "3f675cf5",
   "metadata": {},
   "outputs": [],
   "source": [
    "# 트위터 키 입력\n",
    "auth = tweepy.OAuthHandler(consumer_key, consumer_secret)"
   ]
  },
  {
   "cell_type": "code",
   "execution_count": 6,
   "id": "596ecf76",
   "metadata": {},
   "outputs": [],
   "source": [
    "# 액세스 요청\n",
    "auth.set_access_token(access_token, access_token_secret)"
   ]
  },
  {
   "cell_type": "code",
   "execution_count": 12,
   "id": "9a9b80d7",
   "metadata": {},
   "outputs": [],
   "source": [
    "# twitter API 생성\n",
    "api = tweepy.API(auth, wait_on_rate_limit=True)"
   ]
  },
  {
   "cell_type": "code",
   "execution_count": 14,
   "id": "4ff40897",
   "metadata": {},
   "outputs": [
    {
     "ename": "AttributeError",
     "evalue": "'API' object has no attribute 'search_all_tweets'",
     "output_type": "error",
     "traceback": [
      "\u001b[1;31m---------------------------------------------------------------------------\u001b[0m",
      "\u001b[1;31mAttributeError\u001b[0m                            Traceback (most recent call last)",
      "Cell \u001b[1;32mIn[14], line 1\u001b[0m\n\u001b[1;32m----> 1\u001b[0m cursor \u001b[38;5;241m=\u001b[39m tweepy\u001b[38;5;241m.\u001b[39mCursor(\u001b[43mapi\u001b[49m\u001b[38;5;241;43m.\u001b[39;49m\u001b[43msearch_all_tweets\u001b[49m,\n\u001b[0;32m      2\u001b[0m                       q\u001b[38;5;241m=\u001b[39m keyword)\n",
      "\u001b[1;31mAttributeError\u001b[0m: 'API' object has no attribute 'search_all_tweets'"
     ]
    }
   ],
   "source": [
    "cursor = tweepy.Cursor(api.search_all_tweets,\n",
    "                      q= keyword)"
   ]
  },
  {
   "cell_type": "code",
   "execution_count": null,
   "id": "39155a97",
   "metadata": {},
   "outputs": [],
   "source": [
    "keyword = 'hamster'"
   ]
  },
  {
   "cell_type": "code",
   "execution_count": null,
   "id": "46eaa09e",
   "metadata": {},
   "outputs": [],
   "source": []
  }
 ],
 "metadata": {
  "kernelspec": {
   "display_name": "Python 3 (ipykernel)",
   "language": "python",
   "name": "python3"
  },
  "language_info": {
   "codemirror_mode": {
    "name": "ipython",
    "version": 3
   },
   "file_extension": ".py",
   "mimetype": "text/x-python",
   "name": "python",
   "nbconvert_exporter": "python",
   "pygments_lexer": "ipython3",
   "version": "3.10.9"
  }
 },
 "nbformat": 4,
 "nbformat_minor": 5
}
